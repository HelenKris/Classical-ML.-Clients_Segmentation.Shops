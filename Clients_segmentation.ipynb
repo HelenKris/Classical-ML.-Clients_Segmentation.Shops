{
  "cells": [
    {
      "attachments": {},
      "cell_type": "markdown",
      "metadata": {
        "collapsed": true,
        "id": "i95x796N-Ppb",
        "pycharm": {
          "name": "#%% md\n"
        }
      },
      "source": [
        "### *Цель работы*\n",
        "\n",
        "-----\n",
        "\n",
        "<br>\n",
        "Провести предобработку и разведочный анализ выборки клиентов (файл clients.csv).\n",
        "Используя данные о выборке, построить типичный портрет целевого клиента компании с соответствующими визуализациями и статистическими выводами(пол, возраст, какой тип квартиры он приобретает, какова площадь в кв. м , каков средний чек, цель покупки, источник лида (за это отвечает колонка Source). Таким образом после вашего анализа, я хочу увидеть небольшое описание нашего целевого клиента с соответствующими визуализациями и статистическими выводами, что мы и прошли с вами на лекции.\n",
        "\n",
        "<br>"
      ]
    },
    {
      "cell_type": "code",
      "execution_count": 1,
      "metadata": {
        "id": "X3jKYG5y-Ppk",
        "pycharm": {
          "name": "#%%\n"
        }
      },
      "outputs": [],
      "source": [
        "import pandas as pd\n",
        "import numpy as np\n",
        "import seaborn as sns\n",
        "import random\n",
        "import matplotlib.pyplot as plt\n",
        "import matplotlib.mlab as mlab\n",
        "import matplotlib\n",
        "import warnings\n",
        "warnings.filterwarnings(\"ignore\")\n",
        "from sklearn.preprocessing import StandardScaler\n",
        "from sklearn.cluster import KMeans\n",
        "import plotly.express as px\n",
        "import phik\n",
        "from scipy import stats\n",
        "from sklearn.metrics import silhouette_samples, silhouette_score\n",
        "from sklearn.decomposition import PCA"
      ]
    },
    {
      "cell_type": "code",
      "execution_count": 15,
      "metadata": {
        "id": "aAYF1PcL-x8d"
      },
      "outputs": [],
      "source": [
        "data = pd.read_csv(\"./clients.csv\", parse_dates={'sale_date': [2,3]})"
      ]
    },
    {
      "attachments": {},
      "cell_type": "markdown",
      "metadata": {
        "id": "dDlokTuoyEPz"
      },
      "source": [
        "# **Очистка и подготовка данных**\n",
        "Прежде чем переходить к процессу очистки, всегда нужно представлять исходный датасет. Давайте быстро взглянем на сами данные:"
      ]
    },
    {
      "cell_type": "code",
      "execution_count": 17,
      "metadata": {
        "colab": {
          "base_uri": "https://localhost:8080/",
          "height": 357
        },
        "id": "kOQrU2bG_ALK",
        "outputId": "d6dd6914-e702-4517-8a82-74cf61193f80"
      },
      "outputs": [
        {
          "data": {
            "text/html": [
              "<div>\n",
              "<style scoped>\n",
              "    .dataframe tbody tr th:only-of-type {\n",
              "        vertical-align: middle;\n",
              "    }\n",
              "\n",
              "    .dataframe tbody tr th {\n",
              "        vertical-align: top;\n",
              "    }\n",
              "\n",
              "    .dataframe thead th {\n",
              "        text-align: right;\n",
              "    }\n",
              "</style>\n",
              "<table border=\"1\" class=\"dataframe\">\n",
              "  <thead>\n",
              "    <tr style=\"text-align: right;\">\n",
              "      <th></th>\n",
              "      <th>sale_date</th>\n",
              "      <th>ID</th>\n",
              "      <th>Building</th>\n",
              "      <th>Type of property</th>\n",
              "      <th>Property number</th>\n",
              "      <th>Area (ft.)</th>\n",
              "      <th>Price</th>\n",
              "      <th>Status</th>\n",
              "      <th>Customer ID</th>\n",
              "      <th>Entity</th>\n",
              "      <th>Name</th>\n",
              "      <th>Surname</th>\n",
              "      <th>Age at time of purchase</th>\n",
              "      <th>Age Interval</th>\n",
              "      <th>Y</th>\n",
              "      <th>M</th>\n",
              "      <th>D</th>\n",
              "      <th>Gender</th>\n",
              "      <th>Country</th>\n",
              "      <th>State</th>\n",
              "      <th>Purpose</th>\n",
              "      <th>Deal satisfaction</th>\n",
              "      <th>Mortgage</th>\n",
              "      <th>Source</th>\n",
              "    </tr>\n",
              "  </thead>\n",
              "  <tbody>\n",
              "    <tr>\n",
              "      <th>0</th>\n",
              "      <td>2005-11-01</td>\n",
              "      <td>1030</td>\n",
              "      <td>1</td>\n",
              "      <td>Apartment</td>\n",
              "      <td>30</td>\n",
              "      <td>743.09</td>\n",
              "      <td>$ 246,172.68</td>\n",
              "      <td>Sold</td>\n",
              "      <td>C0028</td>\n",
              "      <td>Individual</td>\n",
              "      <td>Madalyn</td>\n",
              "      <td>Mercer</td>\n",
              "      <td>19.0</td>\n",
              "      <td>18-25</td>\n",
              "      <td>1986.0</td>\n",
              "      <td>6.0</td>\n",
              "      <td>21.0</td>\n",
              "      <td>F</td>\n",
              "      <td>USA</td>\n",
              "      <td>California</td>\n",
              "      <td>Home</td>\n",
              "      <td>5</td>\n",
              "      <td>No</td>\n",
              "      <td>Website</td>\n",
              "    </tr>\n",
              "    <tr>\n",
              "      <th>1</th>\n",
              "      <td>2005-10-01</td>\n",
              "      <td>1029</td>\n",
              "      <td>1</td>\n",
              "      <td>Apartment</td>\n",
              "      <td>29</td>\n",
              "      <td>756.21</td>\n",
              "      <td>$ 246,331.90</td>\n",
              "      <td>Sold</td>\n",
              "      <td>C0027</td>\n",
              "      <td>Individual</td>\n",
              "      <td>Lara</td>\n",
              "      <td>Carrillo</td>\n",
              "      <td>22.0</td>\n",
              "      <td>18-25</td>\n",
              "      <td>1983.0</td>\n",
              "      <td>2.0</td>\n",
              "      <td>24.0</td>\n",
              "      <td>F</td>\n",
              "      <td>USA</td>\n",
              "      <td>California</td>\n",
              "      <td>Home</td>\n",
              "      <td>5</td>\n",
              "      <td>No</td>\n",
              "      <td>Website</td>\n",
              "    </tr>\n",
              "    <tr>\n",
              "      <th>2</th>\n",
              "      <td>2007-07-01</td>\n",
              "      <td>2002</td>\n",
              "      <td>2</td>\n",
              "      <td>Apartment</td>\n",
              "      <td>2</td>\n",
              "      <td>587.28</td>\n",
              "      <td>$ 209,280.91</td>\n",
              "      <td>Sold</td>\n",
              "      <td>C0112</td>\n",
              "      <td>Individual</td>\n",
              "      <td>Donavan</td>\n",
              "      <td>Flowers</td>\n",
              "      <td>22.0</td>\n",
              "      <td>18-25</td>\n",
              "      <td>1985.0</td>\n",
              "      <td>12.0</td>\n",
              "      <td>27.0</td>\n",
              "      <td>M</td>\n",
              "      <td>USA</td>\n",
              "      <td>California</td>\n",
              "      <td>Home</td>\n",
              "      <td>1</td>\n",
              "      <td>Yes</td>\n",
              "      <td>Client</td>\n",
              "    </tr>\n",
              "    <tr>\n",
              "      <th>3</th>\n",
              "      <td>2007-12-01</td>\n",
              "      <td>2031</td>\n",
              "      <td>2</td>\n",
              "      <td>Apartment</td>\n",
              "      <td>31</td>\n",
              "      <td>1604.75</td>\n",
              "      <td>$ 452,667.01</td>\n",
              "      <td>Sold</td>\n",
              "      <td>C0160</td>\n",
              "      <td>Individual</td>\n",
              "      <td>Darien</td>\n",
              "      <td>Dorsey</td>\n",
              "      <td>22.0</td>\n",
              "      <td>18-25</td>\n",
              "      <td>1985.0</td>\n",
              "      <td>12.0</td>\n",
              "      <td>27.0</td>\n",
              "      <td>M</td>\n",
              "      <td>USA</td>\n",
              "      <td>California</td>\n",
              "      <td>Investment</td>\n",
              "      <td>3</td>\n",
              "      <td>Yes</td>\n",
              "      <td>Website</td>\n",
              "    </tr>\n",
              "    <tr>\n",
              "      <th>4</th>\n",
              "      <td>2004-11-01</td>\n",
              "      <td>1049</td>\n",
              "      <td>1</td>\n",
              "      <td>Apartment</td>\n",
              "      <td>49</td>\n",
              "      <td>1375.45</td>\n",
              "      <td>$ 467,083.31</td>\n",
              "      <td>Sold</td>\n",
              "      <td>C0014</td>\n",
              "      <td>Individual</td>\n",
              "      <td>Alessandra</td>\n",
              "      <td>Perry</td>\n",
              "      <td>25.0</td>\n",
              "      <td>18-25</td>\n",
              "      <td>1979.0</td>\n",
              "      <td>5.0</td>\n",
              "      <td>15.0</td>\n",
              "      <td>F</td>\n",
              "      <td>USA</td>\n",
              "      <td>California</td>\n",
              "      <td>Home</td>\n",
              "      <td>4</td>\n",
              "      <td>No</td>\n",
              "      <td>Agency</td>\n",
              "    </tr>\n",
              "  </tbody>\n",
              "</table>\n",
              "</div>"
            ],
            "text/plain": [
              "   sale_date    ID  Building Type of property  Property number  Area (ft.)  \\\n",
              "0 2005-11-01  1030         1        Apartment               30      743.09   \n",
              "1 2005-10-01  1029         1        Apartment               29      756.21   \n",
              "2 2007-07-01  2002         2        Apartment                2      587.28   \n",
              "3 2007-12-01  2031         2        Apartment               31     1604.75   \n",
              "4 2004-11-01  1049         1        Apartment               49     1375.45   \n",
              "\n",
              "            Price  Status Customer ID      Entity        Name   Surname  \\\n",
              "0   $ 246,172.68    Sold        C0028  Individual     Madalyn    Mercer   \n",
              "1   $ 246,331.90    Sold        C0027  Individual        Lara  Carrillo   \n",
              "2   $ 209,280.91    Sold        C0112  Individual     Donavan   Flowers   \n",
              "3   $ 452,667.01    Sold        C0160  Individual      Darien    Dorsey   \n",
              "4   $ 467,083.31    Sold        C0014  Individual  Alessandra     Perry   \n",
              "\n",
              "   Age at time of purchase Age Interval        Y     M     D Gender Country  \\\n",
              "0                     19.0         18-25  1986.0   6.0  21.0      F     USA   \n",
              "1                     22.0         18-25  1983.0   2.0  24.0      F     USA   \n",
              "2                     22.0         18-25  1985.0  12.0  27.0      M     USA   \n",
              "3                     22.0         18-25  1985.0  12.0  27.0      M     USA   \n",
              "4                     25.0         18-25  1979.0   5.0  15.0      F     USA   \n",
              "\n",
              "        State     Purpose  Deal satisfaction Mortgage   Source  \n",
              "0  California        Home                  5       No  Website  \n",
              "1  California        Home                  5       No  Website  \n",
              "2  California        Home                  1      Yes   Client  \n",
              "3  California  Investment                  3      Yes  Website  \n",
              "4  California        Home                  4       No   Agency  "
            ]
          },
          "execution_count": 17,
          "metadata": {},
          "output_type": "execute_result"
        }
      ],
      "source": [
        "pd.set_option('display.max_columns', None)\n",
        "data.head()"
      ]
    },
    {
      "cell_type": "code",
      "execution_count": null,
      "metadata": {
        "colab": {
          "base_uri": "https://localhost:8080/"
        },
        "id": "gW-o4JucdvOL",
        "outputId": "872a2490-4219-4b26-9de4-6293b30886e1"
      },
      "outputs": [
        {
          "data": {
            "text/plain": [
              " Sold     195\n",
              "Name: Status, dtype: int64"
            ]
          },
          "execution_count": 12,
          "metadata": {},
          "output_type": "execute_result"
        }
      ],
      "source": [
        "data.Status.value_counts()"
      ]
    },
    {
      "cell_type": "code",
      "execution_count": 5,
      "metadata": {
        "colab": {
          "base_uri": "https://localhost:8080/"
        },
        "id": "zElNDv4l_DTE",
        "outputId": "5b4dba31-34cb-4754-d8c5-7a3e007a929b"
      },
      "outputs": [
        {
          "name": "stdout",
          "output_type": "stream",
          "text": [
            "<class 'pandas.core.frame.DataFrame'>\n",
            "RangeIndex: 195 entries, 0 to 194\n",
            "Data columns (total 24 columns):\n",
            " #   Column                   Non-Null Count  Dtype         \n",
            "---  ------                   --------------  -----         \n",
            " 0   sale_date                195 non-null    datetime64[ns]\n",
            " 1   ID                       195 non-null    int64         \n",
            " 2   Building                 195 non-null    int64         \n",
            " 3   Type of property         195 non-null    object        \n",
            " 4   Property number          195 non-null    int64         \n",
            " 5   Area (ft.)               195 non-null    float64       \n",
            " 6   Price                    195 non-null    object        \n",
            " 7   Status                   195 non-null    object        \n",
            " 8   Customer ID              195 non-null    object        \n",
            " 9   Entity                   195 non-null    object        \n",
            " 10  Name                     195 non-null    object        \n",
            " 11  Surname                  195 non-null    object        \n",
            " 12  Age at time of purchase  178 non-null    float64       \n",
            " 13  Age Interval             178 non-null    object        \n",
            " 14  Y                        178 non-null    float64       \n",
            " 15  M                        178 non-null    float64       \n",
            " 16  D                        178 non-null    float64       \n",
            " 17  Gender                   178 non-null    object        \n",
            " 18  Country                  195 non-null    object        \n",
            " 19  State                    181 non-null    object        \n",
            " 20  Purpose                  195 non-null    object        \n",
            " 21  Deal satisfaction        195 non-null    int64         \n",
            " 22  Mortgage                 195 non-null    object        \n",
            " 23  Source                   195 non-null    object        \n",
            "dtypes: datetime64[ns](1), float64(5), int64(4), object(14)\n",
            "memory usage: 36.7+ KB\n"
          ]
        }
      ],
      "source": [
        "data.info()"
      ]
    },
    {
      "attachments": {},
      "cell_type": "markdown",
      "metadata": {
        "id": "jnmF_BF3pjXu"
      },
      "source": [
        "# **Очистка и подготовка данных**"
      ]
    },
    {
      "attachments": {},
      "cell_type": "markdown",
      "metadata": {
        "id": "cgxljv_4unm2"
      },
      "source": [
        "# **Вывод 1:**\n",
        "В датасете есть колонки, дублирующие информацию, их необходимо удалить.\n",
        "Колонки Y, M, D дублирую информацию о возрасте покупателя - Age at time of purchase.\n",
        "Есть колонки, которые не представляют большого инетерса для исследования - это 'Name', 'Surname', 'id','property_number','status' (т.к. мы убедились в том, что статус почти везде одинаковый). В данных есть 'Customer ID', для анализа повторных покупок одним и тем же клиентом этого вполне достаточно. Удалим и эти колонки."
      ]
    },
    {
      "cell_type": "code",
      "execution_count": 18,
      "metadata": {
        "id": "qJp-5NRxvSRG"
      },
      "outputs": [],
      "source": [
        "# Удалим ненужные колонки\n",
        "data.drop(['Y', 'M', 'D', 'Name','Surname','ID','Property number','Status' ], axis = 1, inplace= True)"
      ]
    },
    {
      "cell_type": "code",
      "execution_count": 19,
      "metadata": {
        "id": "VXw7ezRtxxSD"
      },
      "outputs": [],
      "source": [
        "# Переименуем колонки, чтобы было легче к ним обращаться через точку.\n",
        "data = data.rename(columns=lambda val: val.replace(\" \", \"_\").lower())"
      ]
    },
    {
      "attachments": {},
      "cell_type": "markdown",
      "metadata": {
        "id": "d-DGqvgk8KFz"
      },
      "source": [
        "Поработаем над форматом колонки **price**"
      ]
    },
    {
      "cell_type": "code",
      "execution_count": 20,
      "metadata": {
        "id": "Mw5lX6x3FZTG"
      },
      "outputs": [],
      "source": [
        "data.price = data.price.str.replace('$','').str.replace(',','')"
      ]
    },
    {
      "cell_type": "code",
      "execution_count": 41,
      "metadata": {},
      "outputs": [],
      "source": [
        "data['price'] = data['price'].astype('float64')"
      ]
    },
    {
      "attachments": {},
      "cell_type": "markdown",
      "metadata": {
        "id": "YIN5P_nGzAdp"
      },
      "source": [
        "# **Отсутствующие данные**"
      ]
    },
    {
      "cell_type": "code",
      "execution_count": 21,
      "metadata": {
        "colab": {
          "base_uri": "https://localhost:8080/",
          "height": 551
        },
        "id": "-lhM5fMYwBi8",
        "outputId": "cf709735-22de-4335-82c7-cd6ce6eefca1"
      },
      "outputs": [
        {
          "data": {
            "text/html": [
              "<div>\n",
              "<style scoped>\n",
              "    .dataframe tbody tr th:only-of-type {\n",
              "        vertical-align: middle;\n",
              "    }\n",
              "\n",
              "    .dataframe tbody tr th {\n",
              "        vertical-align: top;\n",
              "    }\n",
              "\n",
              "    .dataframe thead th {\n",
              "        text-align: right;\n",
              "    }\n",
              "</style>\n",
              "<table border=\"1\" class=\"dataframe\">\n",
              "  <thead>\n",
              "    <tr style=\"text-align: right;\">\n",
              "      <th></th>\n",
              "      <th>Количество пропусков (%)</th>\n",
              "    </tr>\n",
              "  </thead>\n",
              "  <tbody>\n",
              "    <tr>\n",
              "      <th>sale_date</th>\n",
              "      <td>0.000000</td>\n",
              "    </tr>\n",
              "    <tr>\n",
              "      <th>building</th>\n",
              "      <td>0.000000</td>\n",
              "    </tr>\n",
              "    <tr>\n",
              "      <th>type_of_property</th>\n",
              "      <td>0.000000</td>\n",
              "    </tr>\n",
              "    <tr>\n",
              "      <th>area_(ft.)</th>\n",
              "      <td>0.000000</td>\n",
              "    </tr>\n",
              "    <tr>\n",
              "      <th>price</th>\n",
              "      <td>0.000000</td>\n",
              "    </tr>\n",
              "    <tr>\n",
              "      <th>customer_id</th>\n",
              "      <td>0.000000</td>\n",
              "    </tr>\n",
              "    <tr>\n",
              "      <th>entity</th>\n",
              "      <td>0.000000</td>\n",
              "    </tr>\n",
              "    <tr>\n",
              "      <th>age_at_time_of_purchase</th>\n",
              "      <td>8.717949</td>\n",
              "    </tr>\n",
              "    <tr>\n",
              "      <th>age_interval_</th>\n",
              "      <td>8.717949</td>\n",
              "    </tr>\n",
              "    <tr>\n",
              "      <th>gender</th>\n",
              "      <td>8.717949</td>\n",
              "    </tr>\n",
              "    <tr>\n",
              "      <th>country</th>\n",
              "      <td>0.000000</td>\n",
              "    </tr>\n",
              "    <tr>\n",
              "      <th>state</th>\n",
              "      <td>7.179487</td>\n",
              "    </tr>\n",
              "    <tr>\n",
              "      <th>purpose</th>\n",
              "      <td>0.000000</td>\n",
              "    </tr>\n",
              "    <tr>\n",
              "      <th>deal_satisfaction</th>\n",
              "      <td>0.000000</td>\n",
              "    </tr>\n",
              "    <tr>\n",
              "      <th>mortgage</th>\n",
              "      <td>0.000000</td>\n",
              "    </tr>\n",
              "    <tr>\n",
              "      <th>source</th>\n",
              "      <td>0.000000</td>\n",
              "    </tr>\n",
              "  </tbody>\n",
              "</table>\n",
              "</div>"
            ],
            "text/plain": [
              "                         Количество пропусков (%)\n",
              "sale_date                                0.000000\n",
              "building                                 0.000000\n",
              "type_of_property                         0.000000\n",
              "area_(ft.)                               0.000000\n",
              "price                                    0.000000\n",
              "customer_id                              0.000000\n",
              "entity                                   0.000000\n",
              "age_at_time_of_purchase                  8.717949\n",
              "age_interval_                            8.717949\n",
              "gender                                   8.717949\n",
              "country                                  0.000000\n",
              "state                                    7.179487\n",
              "purpose                                  0.000000\n",
              "deal_satisfaction                        0.000000\n",
              "mortgage                                 0.000000\n",
              "source                                   0.000000"
            ]
          },
          "execution_count": 21,
          "metadata": {},
          "output_type": "execute_result"
        }
      ],
      "source": [
        "#Расчет пропусков в процентах\n",
        "pd.DataFrame(data.isnull().sum()/len(data)*100, columns = ['Количество пропусков (%)'])"
      ]
    },
    {
      "cell_type": "code",
      "execution_count": null,
      "metadata": {
        "colab": {
          "base_uri": "https://localhost:8080/",
          "height": 617
        },
        "id": "RHRk3AnO0Ix4",
        "outputId": "d10a3bca-9531-4dce-9c74-32cfe7d254f3"
      },
      "outputs": [
        {
          "data": {
            "text/plain": [
              "<Axes: >"
            ]
          },
          "execution_count": 19,
          "metadata": {},
          "output_type": "execute_result"
        },
        {
          "data": {
            "image/png": "[encoded data removed]",
            "text/plain": [
              "<Figure size 640x480 with 2 Axes>"
            ]
          },
          "metadata": {},
          "output_type": "display_data"
        }
      ],
      "source": [
        "sns.heatmap(data.isnull())"
      ]
    },
    {
      "attachments": {},
      "cell_type": "markdown",
      "metadata": {
        "id": "5vE-ai5qzUWD"
      },
      "source": [
        "Пропущенных значений не очень много, удалять никакие колонки целиком не нужно, самым оптимальным будет заполнить недостающие данные колонок age_interval  самым распространенным значением, а именно модой. Сначала найдем самое распространенное значение интервала возраста, потом заполним возраст так, чтобы он соответсвовал интервалу но был максимально близко к моде колонки age_at_time_of_purchase. По графику heatmap видно, что все эти данные отсутствуют у одних и тех же клиентов."
      ]
    },
    {
      "cell_type": "code",
      "execution_count": 22,
      "metadata": {
        "colab": {
          "base_uri": "https://localhost:8080/"
        },
        "id": "JqhAlT0C1c5N",
        "outputId": "fb25348d-bae4-4600-af5e-3368bffb7b71"
      },
      "outputs": [
        {
          "data": {
            "text/plain": [
              "48.0"
            ]
          },
          "execution_count": 22,
          "metadata": {},
          "output_type": "execute_result"
        }
      ],
      "source": [
        "data.age_at_time_of_purchase.mode()[0]"
      ]
    },
    {
      "cell_type": "code",
      "execution_count": 24,
      "metadata": {
        "colab": {
          "base_uri": "https://localhost:8080/",
          "height": 36
        },
        "id": "Sc5IvtrN1wPc",
        "outputId": "8b269f9e-9679-485d-f158-bd13b4a36e89"
      },
      "outputs": [
        {
          "data": {
            "text/plain": [
              "'36-45'"
            ]
          },
          "execution_count": 24,
          "metadata": {},
          "output_type": "execute_result"
        }
      ],
      "source": [
        "data.age_interval_.mode()[0]"
      ]
    },
    {
      "cell_type": "code",
      "execution_count": 25,
      "metadata": {
        "id": "Y6pI_EXQ02vz"
      },
      "outputs": [],
      "source": [
        "# Соответсвенно, заполняем недостающие данные интревалом 36-45, а возраст 45 годами\n",
        "data.age_interval_ = data.age_interval_.fillna(data.age_interval_.mode()[0])\n",
        "data.age_at_time_of_purchase = data.age_at_time_of_purchase.fillna(45)"
      ]
    },
    {
      "attachments": {},
      "cell_type": "markdown",
      "metadata": {},
      "source": [
        "**Для заполнения колонки gender** можно было посмотреть, имеет ли значительную корреляцию с другими признаками, для того, чтобы наиболее корректно ее заполнить в соответствии с данными в коррелирующих колонках. Для этого можно использовать  удобную библиотеку Phi_K Correlation Analyzer Library, которая позволяет без лишних действий посмотреть корреляции категориальных переменных."
      ]
    },
    {
      "cell_type": "code",
      "execution_count": 31,
      "metadata": {
        "id": "Df6QJWLQ5X4u"
      },
      "outputs": [
        {
          "name": "stdout",
          "output_type": "stream",
          "text": [
            "interval columns not set, guessing: ['building', 'area_(ft.)', 'age_at_time_of_purchase', 'deal_satisfaction']\n"
          ]
        },
        {
          "data": {
            "text/html": [
              "<div>\n",
              "<style scoped>\n",
              "    .dataframe tbody tr th:only-of-type {\n",
              "        vertical-align: middle;\n",
              "    }\n",
              "\n",
              "    .dataframe tbody tr th {\n",
              "        vertical-align: top;\n",
              "    }\n",
              "\n",
              "    .dataframe thead th {\n",
              "        text-align: right;\n",
              "    }\n",
              "</style>\n",
              "<table border=\"1\" class=\"dataframe\">\n",
              "  <thead>\n",
              "    <tr style=\"text-align: right;\">\n",
              "      <th></th>\n",
              "      <th>sale_date</th>\n",
              "      <th>building</th>\n",
              "      <th>type_of_property</th>\n",
              "      <th>area_(ft.)</th>\n",
              "      <th>price</th>\n",
              "      <th>customer_id</th>\n",
              "      <th>entity</th>\n",
              "      <th>age_at_time_of_purchase</th>\n",
              "      <th>age_interval_</th>\n",
              "      <th>gender</th>\n",
              "      <th>country</th>\n",
              "      <th>state</th>\n",
              "      <th>purpose</th>\n",
              "      <th>deal_satisfaction</th>\n",
              "      <th>mortgage</th>\n",
              "      <th>source</th>\n",
              "    </tr>\n",
              "  </thead>\n",
              "  <tbody>\n",
              "    <tr>\n",
              "      <th>sale_date</th>\n",
              "      <td>1.00</td>\n",
              "      <td>0.87</td>\n",
              "      <td>0.77</td>\n",
              "      <td>0.46</td>\n",
              "      <td>1.00</td>\n",
              "      <td>1.00</td>\n",
              "      <td>0.92</td>\n",
              "      <td>0.76</td>\n",
              "      <td>0.73</td>\n",
              "      <td>0.29</td>\n",
              "      <td>0.67</td>\n",
              "      <td>0.00</td>\n",
              "      <td>0.55</td>\n",
              "      <td>0.62</td>\n",
              "      <td>0.41</td>\n",
              "      <td>0.55</td>\n",
              "    </tr>\n",
              "    <tr>\n",
              "      <th>building</th>\n",
              "      <td>0.87</td>\n",
              "      <td>1.00</td>\n",
              "      <td>0.26</td>\n",
              "      <td>0.25</td>\n",
              "      <td>1.00</td>\n",
              "      <td>0.99</td>\n",
              "      <td>0.37</td>\n",
              "      <td>0.35</td>\n",
              "      <td>0.22</td>\n",
              "      <td>0.03</td>\n",
              "      <td>0.20</td>\n",
              "      <td>0.25</td>\n",
              "      <td>0.13</td>\n",
              "      <td>0.16</td>\n",
              "      <td>0.00</td>\n",
              "      <td>0.27</td>\n",
              "    </tr>\n",
              "    <tr>\n",
              "      <th>type_of_property</th>\n",
              "      <td>0.77</td>\n",
              "      <td>0.26</td>\n",
              "      <td>1.00</td>\n",
              "      <td>0.27</td>\n",
              "      <td>1.00</td>\n",
              "      <td>0.89</td>\n",
              "      <td>0.55</td>\n",
              "      <td>0.18</td>\n",
              "      <td>0.20</td>\n",
              "      <td>0.00</td>\n",
              "      <td>0.00</td>\n",
              "      <td>0.14</td>\n",
              "      <td>0.22</td>\n",
              "      <td>0.08</td>\n",
              "      <td>0.05</td>\n",
              "      <td>0.00</td>\n",
              "    </tr>\n",
              "    <tr>\n",
              "      <th>area_(ft.)</th>\n",
              "      <td>0.46</td>\n",
              "      <td>0.25</td>\n",
              "      <td>0.27</td>\n",
              "      <td>1.00</td>\n",
              "      <td>0.44</td>\n",
              "      <td>0.91</td>\n",
              "      <td>0.00</td>\n",
              "      <td>0.21</td>\n",
              "      <td>0.11</td>\n",
              "      <td>0.00</td>\n",
              "      <td>0.14</td>\n",
              "      <td>0.09</td>\n",
              "      <td>0.36</td>\n",
              "      <td>0.00</td>\n",
              "      <td>0.00</td>\n",
              "      <td>0.22</td>\n",
              "    </tr>\n",
              "    <tr>\n",
              "      <th>price</th>\n",
              "      <td>1.00</td>\n",
              "      <td>1.00</td>\n",
              "      <td>1.00</td>\n",
              "      <td>0.44</td>\n",
              "      <td>1.00</td>\n",
              "      <td>1.00</td>\n",
              "      <td>1.00</td>\n",
              "      <td>1.00</td>\n",
              "      <td>1.00</td>\n",
              "      <td>0.00</td>\n",
              "      <td>1.00</td>\n",
              "      <td>1.00</td>\n",
              "      <td>1.00</td>\n",
              "      <td>0.86</td>\n",
              "      <td>1.00</td>\n",
              "      <td>0.85</td>\n",
              "    </tr>\n",
              "    <tr>\n",
              "      <th>customer_id</th>\n",
              "      <td>1.00</td>\n",
              "      <td>0.99</td>\n",
              "      <td>0.89</td>\n",
              "      <td>0.91</td>\n",
              "      <td>1.00</td>\n",
              "      <td>1.00</td>\n",
              "      <td>1.00</td>\n",
              "      <td>1.00</td>\n",
              "      <td>1.00</td>\n",
              "      <td>1.00</td>\n",
              "      <td>1.00</td>\n",
              "      <td>1.00</td>\n",
              "      <td>0.99</td>\n",
              "      <td>0.98</td>\n",
              "      <td>1.00</td>\n",
              "      <td>0.98</td>\n",
              "    </tr>\n",
              "    <tr>\n",
              "      <th>entity</th>\n",
              "      <td>0.92</td>\n",
              "      <td>0.37</td>\n",
              "      <td>0.55</td>\n",
              "      <td>0.00</td>\n",
              "      <td>1.00</td>\n",
              "      <td>1.00</td>\n",
              "      <td>1.00</td>\n",
              "      <td>0.72</td>\n",
              "      <td>0.54</td>\n",
              "      <td>NaN</td>\n",
              "      <td>0.58</td>\n",
              "      <td>0.08</td>\n",
              "      <td>0.49</td>\n",
              "      <td>0.19</td>\n",
              "      <td>0.00</td>\n",
              "      <td>0.11</td>\n",
              "    </tr>\n",
              "    <tr>\n",
              "      <th>age_at_time_of_purchase</th>\n",
              "      <td>0.76</td>\n",
              "      <td>0.35</td>\n",
              "      <td>0.18</td>\n",
              "      <td>0.21</td>\n",
              "      <td>1.00</td>\n",
              "      <td>1.00</td>\n",
              "      <td>0.72</td>\n",
              "      <td>1.00</td>\n",
              "      <td>0.96</td>\n",
              "      <td>0.00</td>\n",
              "      <td>0.48</td>\n",
              "      <td>0.41</td>\n",
              "      <td>0.36</td>\n",
              "      <td>0.23</td>\n",
              "      <td>0.00</td>\n",
              "      <td>0.26</td>\n",
              "    </tr>\n",
              "    <tr>\n",
              "      <th>age_interval_</th>\n",
              "      <td>0.73</td>\n",
              "      <td>0.22</td>\n",
              "      <td>0.20</td>\n",
              "      <td>0.11</td>\n",
              "      <td>1.00</td>\n",
              "      <td>1.00</td>\n",
              "      <td>0.54</td>\n",
              "      <td>0.96</td>\n",
              "      <td>1.00</td>\n",
              "      <td>0.00</td>\n",
              "      <td>0.36</td>\n",
              "      <td>0.25</td>\n",
              "      <td>0.21</td>\n",
              "      <td>0.10</td>\n",
              "      <td>0.00</td>\n",
              "      <td>0.28</td>\n",
              "    </tr>\n",
              "    <tr>\n",
              "      <th>gender</th>\n",
              "      <td>0.29</td>\n",
              "      <td>0.03</td>\n",
              "      <td>0.00</td>\n",
              "      <td>0.00</td>\n",
              "      <td>0.00</td>\n",
              "      <td>1.00</td>\n",
              "      <td>NaN</td>\n",
              "      <td>0.00</td>\n",
              "      <td>0.00</td>\n",
              "      <td>1.00</td>\n",
              "      <td>0.13</td>\n",
              "      <td>0.00</td>\n",
              "      <td>0.00</td>\n",
              "      <td>0.06</td>\n",
              "      <td>0.16</td>\n",
              "      <td>0.00</td>\n",
              "    </tr>\n",
              "    <tr>\n",
              "      <th>country</th>\n",
              "      <td>0.67</td>\n",
              "      <td>0.20</td>\n",
              "      <td>0.00</td>\n",
              "      <td>0.14</td>\n",
              "      <td>1.00</td>\n",
              "      <td>1.00</td>\n",
              "      <td>0.58</td>\n",
              "      <td>0.48</td>\n",
              "      <td>0.36</td>\n",
              "      <td>0.13</td>\n",
              "      <td>1.00</td>\n",
              "      <td>0.00</td>\n",
              "      <td>0.33</td>\n",
              "      <td>0.33</td>\n",
              "      <td>0.18</td>\n",
              "      <td>0.34</td>\n",
              "    </tr>\n",
              "    <tr>\n",
              "      <th>state</th>\n",
              "      <td>0.00</td>\n",
              "      <td>0.25</td>\n",
              "      <td>0.14</td>\n",
              "      <td>0.09</td>\n",
              "      <td>1.00</td>\n",
              "      <td>1.00</td>\n",
              "      <td>0.08</td>\n",
              "      <td>0.41</td>\n",
              "      <td>0.25</td>\n",
              "      <td>0.00</td>\n",
              "      <td>0.00</td>\n",
              "      <td>1.00</td>\n",
              "      <td>0.28</td>\n",
              "      <td>0.26</td>\n",
              "      <td>0.08</td>\n",
              "      <td>0.41</td>\n",
              "    </tr>\n",
              "    <tr>\n",
              "      <th>purpose</th>\n",
              "      <td>0.55</td>\n",
              "      <td>0.13</td>\n",
              "      <td>0.22</td>\n",
              "      <td>0.36</td>\n",
              "      <td>1.00</td>\n",
              "      <td>0.99</td>\n",
              "      <td>0.49</td>\n",
              "      <td>0.36</td>\n",
              "      <td>0.21</td>\n",
              "      <td>0.00</td>\n",
              "      <td>0.33</td>\n",
              "      <td>0.28</td>\n",
              "      <td>1.00</td>\n",
              "      <td>0.15</td>\n",
              "      <td>0.31</td>\n",
              "      <td>0.00</td>\n",
              "    </tr>\n",
              "    <tr>\n",
              "      <th>deal_satisfaction</th>\n",
              "      <td>0.62</td>\n",
              "      <td>0.16</td>\n",
              "      <td>0.08</td>\n",
              "      <td>0.00</td>\n",
              "      <td>0.86</td>\n",
              "      <td>0.98</td>\n",
              "      <td>0.19</td>\n",
              "      <td>0.23</td>\n",
              "      <td>0.10</td>\n",
              "      <td>0.06</td>\n",
              "      <td>0.33</td>\n",
              "      <td>0.26</td>\n",
              "      <td>0.15</td>\n",
              "      <td>1.00</td>\n",
              "      <td>0.19</td>\n",
              "      <td>0.00</td>\n",
              "    </tr>\n",
              "    <tr>\n",
              "      <th>mortgage</th>\n",
              "      <td>0.41</td>\n",
              "      <td>0.00</td>\n",
              "      <td>0.05</td>\n",
              "      <td>0.00</td>\n",
              "      <td>1.00</td>\n",
              "      <td>1.00</td>\n",
              "      <td>0.00</td>\n",
              "      <td>0.00</td>\n",
              "      <td>0.00</td>\n",
              "      <td>0.16</td>\n",
              "      <td>0.18</td>\n",
              "      <td>0.08</td>\n",
              "      <td>0.31</td>\n",
              "      <td>0.19</td>\n",
              "      <td>1.00</td>\n",
              "      <td>0.00</td>\n",
              "    </tr>\n",
              "    <tr>\n",
              "      <th>source</th>\n",
              "      <td>0.55</td>\n",
              "      <td>0.27</td>\n",
              "      <td>0.00</td>\n",
              "      <td>0.22</td>\n",
              "      <td>0.85</td>\n",
              "      <td>0.98</td>\n",
              "      <td>0.11</td>\n",
              "      <td>0.26</td>\n",
              "      <td>0.28</td>\n",
              "      <td>0.00</td>\n",
              "      <td>0.34</td>\n",
              "      <td>0.41</td>\n",
              "      <td>0.00</td>\n",
              "      <td>0.00</td>\n",
              "      <td>0.00</td>\n",
              "      <td>1.00</td>\n",
              "    </tr>\n",
              "  </tbody>\n",
              "</table>\n",
              "</div>"
            ],
            "text/plain": [
              "                         sale_date  building  type_of_property  area_(ft.)  \\\n",
              "sale_date                     1.00      0.87              0.77        0.46   \n",
              "building                      0.87      1.00              0.26        0.25   \n",
              "type_of_property              0.77      0.26              1.00        0.27   \n",
              "area_(ft.)                    0.46      0.25              0.27        1.00   \n",
              "price                         1.00      1.00              1.00        0.44   \n",
              "customer_id                   1.00      0.99              0.89        0.91   \n",
              "entity                        0.92      0.37              0.55        0.00   \n",
              "age_at_time_of_purchase       0.76      0.35              0.18        0.21   \n",
              "age_interval_                 0.73      0.22              0.20        0.11   \n",
              "gender                        0.29      0.03              0.00        0.00   \n",
              "country                       0.67      0.20              0.00        0.14   \n",
              "state                         0.00      0.25              0.14        0.09   \n",
              "purpose                       0.55      0.13              0.22        0.36   \n",
              "deal_satisfaction             0.62      0.16              0.08        0.00   \n",
              "mortgage                      0.41      0.00              0.05        0.00   \n",
              "source                        0.55      0.27              0.00        0.22   \n",
              "\n",
              "                         price  customer_id  entity  age_at_time_of_purchase  \\\n",
              "sale_date                 1.00         1.00    0.92                     0.76   \n",
              "building                  1.00         0.99    0.37                     0.35   \n",
              "type_of_property          1.00         0.89    0.55                     0.18   \n",
              "area_(ft.)                0.44         0.91    0.00                     0.21   \n",
              "price                     1.00         1.00    1.00                     1.00   \n",
              "customer_id               1.00         1.00    1.00                     1.00   \n",
              "entity                    1.00         1.00    1.00                     0.72   \n",
              "age_at_time_of_purchase   1.00         1.00    0.72                     1.00   \n",
              "age_interval_             1.00         1.00    0.54                     0.96   \n",
              "gender                    0.00         1.00     NaN                     0.00   \n",
              "country                   1.00         1.00    0.58                     0.48   \n",
              "state                     1.00         1.00    0.08                     0.41   \n",
              "purpose                   1.00         0.99    0.49                     0.36   \n",
              "deal_satisfaction         0.86         0.98    0.19                     0.23   \n",
              "mortgage                  1.00         1.00    0.00                     0.00   \n",
              "source                    0.85         0.98    0.11                     0.26   \n",
              "\n",
              "                         age_interval_  gender  country  state  purpose  \\\n",
              "sale_date                         0.73    0.29     0.67   0.00     0.55   \n",
              "building                          0.22    0.03     0.20   0.25     0.13   \n",
              "type_of_property                  0.20    0.00     0.00   0.14     0.22   \n",
              "area_(ft.)                        0.11    0.00     0.14   0.09     0.36   \n",
              "price                             1.00    0.00     1.00   1.00     1.00   \n",
              "customer_id                       1.00    1.00     1.00   1.00     0.99   \n",
              "entity                            0.54     NaN     0.58   0.08     0.49   \n",
              "age_at_time_of_purchase           0.96    0.00     0.48   0.41     0.36   \n",
              "age_interval_                     1.00    0.00     0.36   0.25     0.21   \n",
              "gender                            0.00    1.00     0.13   0.00     0.00   \n",
              "country                           0.36    0.13     1.00   0.00     0.33   \n",
              "state                             0.25    0.00     0.00   1.00     0.28   \n",
              "purpose                           0.21    0.00     0.33   0.28     1.00   \n",
              "deal_satisfaction                 0.10    0.06     0.33   0.26     0.15   \n",
              "mortgage                          0.00    0.16     0.18   0.08     0.31   \n",
              "source                            0.28    0.00     0.34   0.41     0.00   \n",
              "\n",
              "                         deal_satisfaction  mortgage  source  \n",
              "sale_date                             0.62      0.41    0.55  \n",
              "building                              0.16      0.00    0.27  \n",
              "type_of_property                      0.08      0.05    0.00  \n",
              "area_(ft.)                            0.00      0.00    0.22  \n",
              "price                                 0.86      1.00    0.85  \n",
              "customer_id                           0.98      1.00    0.98  \n",
              "entity                                0.19      0.00    0.11  \n",
              "age_at_time_of_purchase               0.23      0.00    0.26  \n",
              "age_interval_                         0.10      0.00    0.28  \n",
              "gender                                0.06      0.16    0.00  \n",
              "country                               0.33      0.18    0.34  \n",
              "state                                 0.26      0.08    0.41  \n",
              "purpose                               0.15      0.31    0.00  \n",
              "deal_satisfaction                     1.00      0.19    0.00  \n",
              "mortgage                              0.19      1.00    0.00  \n",
              "source                                0.00      0.00    1.00  "
            ]
          },
          "execution_count": 31,
          "metadata": {},
          "output_type": "execute_result"
        }
      ],
      "source": [
        "# Составим матрицу корреляции\n",
        "phik_overview = data.phik_matrix()\n",
        "phik_overview.round(2)"
      ]
    },
    {
      "cell_type": "code",
      "execution_count": 8,
      "metadata": {
        "colab": {
          "base_uri": "https://localhost:8080/"
        },
        "id": "sj7vjydoGQnM",
        "outputId": "944332c2-6fec-4eda-f4f1-b7ebcfe44bd9"
      },
      "outputs": [
        {
          "data": {
            "text/plain": [
              "M    108\n",
              "F     70\n",
              "Name: gender, dtype: int64"
            ]
          },
          "execution_count": 8,
          "metadata": {},
          "output_type": "execute_result"
        }
      ],
      "source": [
        "data['gender'].value_counts()"
      ]
    },
    {
      "attachments": {},
      "cell_type": "markdown",
      "metadata": {
        "id": "onRGvbYLH1bZ"
      },
      "source": [
        "Как видим по матрице, 'gender' не имеет сильной корреляции ни с одной из колонок, распределение значений перекошено в сторону male. Чтобы не перекашивать выборку еще больше, было принято решение заполнить эти данные случайно выбранным значением из столбца."
      ]
    },
    {
      "cell_type": "code",
      "execution_count": 32,
      "metadata": {
        "id": "NtiQDw9INXjA"
      },
      "outputs": [],
      "source": [
        "data.gender.fillna(random.choice(data.gender[data.gender.notna()]), inplace=True)"
      ]
    },
    {
      "attachments": {},
      "cell_type": "markdown",
      "metadata": {
        "id": "nS1tcRgPQZD7"
      },
      "source": [
        "Посмотрим на значения колонки Country и избавимся от пробелов в заполнении оснойвной страны USA. Также. чтобы не было пропущенных значений, заполним колонку State значением 'Not USA'."
      ]
    },
    {
      "cell_type": "code",
      "execution_count": null,
      "metadata": {
        "colab": {
          "base_uri": "https://localhost:8080/"
        },
        "id": "K-FUB868Rd7q",
        "outputId": "2a3a16e2-e8e7-44ab-a2a9-dceeaf92c586"
      },
      "outputs": [
        {
          "data": {
            "text/plain": [
              "USA        165\n",
              "USA         12\n",
              "Canada       7\n",
              "Russia       4\n",
              "UK           2\n",
              "Belgium      2\n",
              "Denmark      1\n",
              "Germany      1\n",
              "Mexico       1\n",
              "Name: country, dtype: int64"
            ]
          },
          "execution_count": 23,
          "metadata": {},
          "output_type": "execute_result"
        }
      ],
      "source": [
        "data['country'].value_counts()"
      ]
    },
    {
      "cell_type": "code",
      "execution_count": 11,
      "metadata": {
        "colab": {
          "base_uri": "https://localhost:8080/"
        },
        "id": "YgSRdbDyHJ-1",
        "outputId": "ad22e64f-be71-4c3d-e744-9ec72e6e689f"
      },
      "outputs": [
        {
          "data": {
            "text/plain": [
              "USA        177\n",
              "Canada       7\n",
              "Russia       4\n",
              "UK           2\n",
              "Belgium      2\n",
              "Denmark      1\n",
              "Germany      1\n",
              "Mexico       1\n",
              "Name: country, dtype: int64"
            ]
          },
          "execution_count": 11,
          "metadata": {},
          "output_type": "execute_result"
        }
      ],
      "source": [
        "data['country'] = data.country.apply(lambda x:x.strip())\n",
        "data['country'].value_counts()"
      ]
    },
    {
      "cell_type": "code",
      "execution_count": 12,
      "metadata": {
        "colab": {
          "base_uri": "https://localhost:8080/"
        },
        "id": "BO1wOU1FMkxL",
        "outputId": "afd24491-38b0-4496-ee05-6630a86a7150"
      },
      "outputs": [
        {
          "data": {
            "text/plain": [
              "California    119\n",
              "Nevada         17\n",
              "Not USA        14\n",
              "Arizona        11\n",
              "Oregon         11\n",
              "Colorado       11\n",
              "Utah            6\n",
              "Virginia        4\n",
              "Kansas          1\n",
              "Wyoming         1\n",
              "Name: state, dtype: int64"
            ]
          },
          "execution_count": 12,
          "metadata": {},
          "output_type": "execute_result"
        }
      ],
      "source": [
        "data.state.fillna('Not USA', inplace=True)\n",
        "data['state'].value_counts()"
      ]
    },
    {
      "attachments": {},
      "cell_type": "markdown",
      "metadata": {},
      "source": [
        "# **Работа с выбросами**\n",
        "Посмотрим на данные статистики, чтобы понять, имеют ли данные выбросы"
      ]
    },
    {
      "cell_type": "code",
      "execution_count": 42,
      "metadata": {
        "colab": {
          "base_uri": "https://localhost:8080/",
          "height": 300
        },
        "id": "XGHyul2ARjFr",
        "outputId": "ac72cda2-a6ff-47aa-ea9e-cf8ba00bdacf"
      },
      "outputs": [
        {
          "data": {
            "text/html": [
              "<div>\n",
              "<style scoped>\n",
              "    .dataframe tbody tr th:only-of-type {\n",
              "        vertical-align: middle;\n",
              "    }\n",
              "\n",
              "    .dataframe tbody tr th {\n",
              "        vertical-align: top;\n",
              "    }\n",
              "\n",
              "    .dataframe thead th {\n",
              "        text-align: right;\n",
              "    }\n",
              "</style>\n",
              "<table border=\"1\" class=\"dataframe\">\n",
              "  <thead>\n",
              "    <tr style=\"text-align: right;\">\n",
              "      <th></th>\n",
              "      <th>building</th>\n",
              "      <th>area_(ft.)</th>\n",
              "      <th>price</th>\n",
              "      <th>age_at_time_of_purchase</th>\n",
              "      <th>deal_satisfaction</th>\n",
              "    </tr>\n",
              "  </thead>\n",
              "  <tbody>\n",
              "    <tr>\n",
              "      <th>count</th>\n",
              "      <td>195.000</td>\n",
              "      <td>195.000</td>\n",
              "      <td>195.000</td>\n",
              "      <td>195.000</td>\n",
              "      <td>195.000</td>\n",
              "    </tr>\n",
              "    <tr>\n",
              "      <th>mean</th>\n",
              "      <td>2.564</td>\n",
              "      <td>899.867</td>\n",
              "      <td>269434.561</td>\n",
              "      <td>46.051</td>\n",
              "      <td>3.605</td>\n",
              "    </tr>\n",
              "    <tr>\n",
              "      <th>std</th>\n",
              "      <td>1.243</td>\n",
              "      <td>261.490</td>\n",
              "      <td>80129.094</td>\n",
              "      <td>12.270</td>\n",
              "      <td>1.363</td>\n",
              "    </tr>\n",
              "    <tr>\n",
              "      <th>min</th>\n",
              "      <td>1.000</td>\n",
              "      <td>410.710</td>\n",
              "      <td>117564.070</td>\n",
              "      <td>19.000</td>\n",
              "      <td>1.000</td>\n",
              "    </tr>\n",
              "    <tr>\n",
              "      <th>25%</th>\n",
              "      <td>2.000</td>\n",
              "      <td>739.860</td>\n",
              "      <td>212393.250</td>\n",
              "      <td>37.500</td>\n",
              "      <td>3.000</td>\n",
              "    </tr>\n",
              "    <tr>\n",
              "      <th>50%</th>\n",
              "      <td>2.000</td>\n",
              "      <td>785.480</td>\n",
              "      <td>243052.590</td>\n",
              "      <td>45.000</td>\n",
              "      <td>4.000</td>\n",
              "    </tr>\n",
              "    <tr>\n",
              "      <th>75%</th>\n",
              "      <td>3.000</td>\n",
              "      <td>1075.460</td>\n",
              "      <td>308550.875</td>\n",
              "      <td>55.000</td>\n",
              "      <td>5.000</td>\n",
              "    </tr>\n",
              "    <tr>\n",
              "      <th>max</th>\n",
              "      <td>5.000</td>\n",
              "      <td>1942.500</td>\n",
              "      <td>529317.280</td>\n",
              "      <td>76.000</td>\n",
              "      <td>5.000</td>\n",
              "    </tr>\n",
              "  </tbody>\n",
              "</table>\n",
              "</div>"
            ],
            "text/plain": [
              "       building  area_(ft.)      price  age_at_time_of_purchase  \\\n",
              "count   195.000     195.000    195.000                  195.000   \n",
              "mean      2.564     899.867 269434.561                   46.051   \n",
              "std       1.243     261.490  80129.094                   12.270   \n",
              "min       1.000     410.710 117564.070                   19.000   \n",
              "25%       2.000     739.860 212393.250                   37.500   \n",
              "50%       2.000     785.480 243052.590                   45.000   \n",
              "75%       3.000    1075.460 308550.875                   55.000   \n",
              "max       5.000    1942.500 529317.280                   76.000   \n",
              "\n",
              "       deal_satisfaction  \n",
              "count            195.000  \n",
              "mean               3.605  \n",
              "std                1.363  \n",
              "min                1.000  \n",
              "25%                3.000  \n",
              "50%                4.000  \n",
              "75%                5.000  \n",
              "max                5.000  "
            ]
          },
          "execution_count": 42,
          "metadata": {},
          "output_type": "execute_result"
        }
      ],
      "source": [
        "pd.set_option('display.float_format', '{:.3f}'.format)\n",
        "data.describe()"
      ]
    },
    {
      "attachments": {},
      "cell_type": "markdown",
      "metadata": {},
      "source": [
        "Похоже, что у нас есть выброс(ы) в колонках area_(ft.) и price. Визуализируем данные в этих колонках"
      ]
    },
    {
      "cell_type": "code",
      "execution_count": 45,
      "metadata": {
        "colab": {
          "base_uri": "https://localhost:8080/",
          "height": 449
        },
        "id": "bLQ8g-WxRdDT",
        "outputId": "96811ebe-23b3-4952-cd15-a6b536abf891"
      },
      "outputs": [
        {
          "data": {
            "application/vnd.plotly.v1+json": {
              "config": {
                "plotlyServerURL": "https://plot.ly"
              },
              "data": [
                {
                  "alignmentgroup": "True",
                  "bingroup": "x",
                  "hovertemplate": "price=%{x}<br>count=%{y}<extra></extra>",
                  "legendgroup": "",
                  "marker": {
                    "color": "#636efa",
                    "pattern": {
                      "shape": ""
                    }
                  },
                  "name": "",
                  "nbinsx": 10,
                  "offsetgroup": "",
                  "orientation": "v",
                  "showlegend": false,
                  "type": "histogram",
                  "x": [
                    246172.68,
                    246331.9,
                    209280.91,
                    452667.01,
                    467083.31,
                    203491.85,
                    212520.83,
                    198591.85,
                    265467.68,
                    235633.26,
                    317473.86,
                    503790.23,
                    217786.38,
                    460001.26,
                    460001.26,
                    448134.27,
                    249591.99,
                    196142.19,
                    258572.48,
                    310831.21,
                    207281.59,
                    168834.04,
                    396973.83,
                    188743.11,
                    179674.08,
                    306363.64,
                    200300.63,
                    382041.13,
                    245572.79,
                    407214.29,
                    355073.4,
                    256821.64,
                    226342.8,
                    191389.87,
                    297008.97,
                    250773.15,
                    312211.14,
                    190119.5,
                    225050.52,
                    261742.74,
                    344530.89,
                    215410.28,
                    252185.99,
                    480545.81,
                    300385.62,
                    240539.35,
                    222138.72,
                    228410.05,
                    197053.51,
                    193660.62,
                    237060.15,
                    372001.7,
                    290031.26,
                    238811.06,
                    199054.2,
                    496266.41,
                    346906.89,
                    376964.62,
                    315733.15,
                    188273.73,
                    253831.02,
                    278575.87,
                    402081.8,
                    310832.59,
                    257183.48,
                    326885.34,
                    344568.74,
                    214631.68,
                    237207.68,
                    464549.19,
                    310577.04,
                    205098.21,
                    248525.12,
                    224463.87,
                    220606.28,
                    220865,
                    338181.18,
                    432679.91,
                    196220.05,
                    323915.81,
                    200719.02,
                    380809.52,
                    213942.56,
                    207581.43,
                    241671.52,
                    336695.25,
                    171262.65,
                    299159.14,
                    212265.67,
                    388515.14,
                    263790.81,
                    367976.46,
                    243052.59,
                    269075.3,
                    223577.32,
                    198075.99,
                    354553.23,
                    456919.46,
                    233142.8,
                    225401.62,
                    195153.16,
                    206631.81,
                    358525.59,
                    223917.34,
                    201518.89,
                    269278.57,
                    204808.16,
                    306878.46,
                    275394.25,
                    192092.24,
                    165430.28,
                    310223.29,
                    231552.33,
                    215774.28,
                    289727.99,
                    195874.94,
                    357538.2,
                    239248.75,
                    382277.15,
                    248422.66,
                    242740.66,
                    253025.78,
                    234172.39,
                    200678.75,
                    226578.51,
                    200148.89,
                    218585.92,
                    198841.7,
                    252927.84,
                    225290.22,
                    234750.59,
                    287466.41,
                    229464.71,
                    377313.56,
                    276759.18,
                    219373.41,
                    230216.22,
                    410932.67,
                    214341.34,
                    248274.31,
                    390494.27,
                    293876.27,
                    204286.67,
                    230154.53,
                    228170.03,
                    205085.4,
                    177555.06,
                    217748.48,
                    247739.44,
                    484458.03,
                    356506.37,
                    197869.36,
                    236608.95,
                    208930.81,
                    263123.42,
                    286433.57,
                    229581.78,
                    252053.03,
                    244820.67,
                    241620.48,
                    235762.34,
                    236639.56,
                    294807.65,
                    293828.69,
                    412856.56,
                    224076.84,
                    258015.61,
                    153466.71,
                    261871.7,
                    210038.7,
                    210824.06,
                    249075.66,
                    219865.76,
                    204292.49,
                    261579.89,
                    222867.42,
                    291494.36,
                    296483.14,
                    117564.07,
                    317196.4,
                    264142.16,
                    222947.21,
                    250312.53,
                    246050.4,
                    529317.28,
                    169158.29,
                    206958.71,
                    206445.42,
                    239341.58,
                    398903.42,
                    210745.17,
                    331154.88,
                    204434.68,
                    189194.31,
                    204027.09
                  ],
                  "xaxis": "x",
                  "yaxis": "y"
                },
                {
                  "alignmentgroup": "True",
                  "hovertemplate": "price=%{x}<extra></extra>",
                  "legendgroup": "",
                  "marker": {
                    "color": "#636efa"
                  },
                  "name": "",
                  "notched": true,
                  "offsetgroup": "",
                  "showlegend": false,
                  "type": "box",
                  "x": [
                    246172.68,
                    246331.9,
                    209280.91,
                    452667.01,
                    467083.31,
                    203491.85,
                    212520.83,
                    198591.85,
                    265467.68,
                    235633.26,
                    317473.86,
                    503790.23,
                    217786.38,
                    460001.26,
                    460001.26,
                    448134.27,
                    249591.99,
                    196142.19,
                    258572.48,
                    310831.21,
                    207281.59,
                    168834.04,
                    396973.83,
                    188743.11,
                    179674.08,
                    306363.64,
                    200300.63,
                    382041.13,
                    245572.79,
                    407214.29,
                    355073.4,
                    256821.64,
                    226342.8,
                    191389.87,
                    297008.97,
                    250773.15,
                    312211.14,
                    190119.5,
                    225050.52,
                    261742.74,
                    344530.89,
                    215410.28,
                    252185.99,
                    480545.81,
                    300385.62,
                    240539.35,
                    222138.72,
                    228410.05,
                    197053.51,
                    193660.62,
                    237060.15,
                    372001.7,
                    290031.26,
                    238811.06,
                    199054.2,
                    496266.41,
                    346906.89,
                    376964.62,
                    315733.15,
                    188273.73,
                    253831.02,
                    278575.87,
                    402081.8,
                    310832.59,
                    257183.48,
                    326885.34,
                    344568.74,
                    214631.68,
                    237207.68,
                    464549.19,
                    310577.04,
                    205098.21,
                    248525.12,
                    224463.87,
                    220606.28,
                    220865,
                    338181.18,
                    432679.91,
                    196220.05,
                    323915.81,
                    200719.02,
                    380809.52,
                    213942.56,
                    207581.43,
                    241671.52,
                    336695.25,
                    171262.65,
                    299159.14,
                    212265.67,
                    388515.14,
                    263790.81,
                    367976.46,
                    243052.59,
                    269075.3,
                    223577.32,
                    198075.99,
                    354553.23,
                    456919.46,
                    233142.8,
                    225401.62,
                    195153.16,
                    206631.81,
                    358525.59,
                    223917.34,
                    201518.89,
                    269278.57,
                    204808.16,
                    306878.46,
                    275394.25,
                    192092.24,
                    165430.28,
                    310223.29,
                    231552.33,
                    215774.28,
                    289727.99,
                    195874.94,
                    357538.2,
                    239248.75,
                    382277.15,
                    248422.66,
                    242740.66,
                    253025.78,
                    234172.39,
                    200678.75,
                    226578.51,
                    200148.89,
                    218585.92,
                    198841.7,
                    252927.84,
                    225290.22,
                    234750.59,
                    287466.41,
                    229464.71,
                    377313.56,
                    276759.18,
                    219373.41,
                    230216.22,
                    410932.67,
                    214341.34,
                    248274.31,
                    390494.27,
                    293876.27,
                    204286.67,
                    230154.53,
                    228170.03,
                    205085.4,
                    177555.06,
                    217748.48,
                    247739.44,
                    484458.03,
                    356506.37,
                    197869.36,
                    236608.95,
                    208930.81,
                    263123.42,
                    286433.57,
                    229581.78,
                    252053.03,
                    244820.67,
                    241620.48,
                    235762.34,
                    236639.56,
                    294807.65,
                    293828.69,
                    412856.56,
                    224076.84,
                    258015.61,
                    153466.71,
                    261871.7,
                    210038.7,
                    210824.06,
                    249075.66,
                    219865.76,
                    204292.49,
                    261579.89,
                    222867.42,
                    291494.36,
                    296483.14,
                    117564.07,
                    317196.4,
                    264142.16,
                    222947.21,
                    250312.53,
                    246050.4,
                    529317.28,
                    169158.29,
                    206958.71,
                    206445.42,
                    239341.58,
                    398903.42,
                    210745.17,
                    331154.88,
                    204434.68,
                    189194.31,
                    204027.09
                  ],
                  "xaxis": "x2",
                  "yaxis": "y2"
                }
              ],
              "layout": {
                "barmode": "relative",
                "legend": {
                  "tracegroupgap": 0
                },
                "margin": {
                  "t": 60
                },
                "template": {
                  "data": {
                    "bar": [
                      {
                        "error_x": {
                          "color": "#2a3f5f"
                        },
                        "error_y": {
                          "color": "#2a3f5f"
                        },
                        "marker": {
                          "line": {
                            "color": "#E5ECF6",
                            "width": 0.5
                          },
                          "pattern": {
                            "fillmode": "overlay",
                            "size": 10,
                            "solidity": 0.2
                          }
                        },
                        "type": "bar"
                      }
                    ],
                    "barpolar": [
                      {
                        "marker": {
                          "line": {
                            "color": "#E5ECF6",
                            "width": 0.5
                          },
                          "pattern": {
                            "fillmode": "overlay",
                            "size": 10,
                            "solidity": 0.2
                          }
                        },
                        "type": "barpolar"
                      }
                    ],
                    "carpet": [
                      {
                        "aaxis": {
                          "endlinecolor": "#2a3f5f",
                          "gridcolor": "white",
                          "linecolor": "white",
                          "minorgridcolor": "white",
                          "startlinecolor": "#2a3f5f"
                        },
                        "baxis": {
                          "endlinecolor": "#2a3f5f",
                          "gridcolor": "white",
                          "linecolor": "white",
                          "minorgridcolor": "white",
                          "startlinecolor": "#2a3f5f"
                        },
                        "type": "carpet"
                      }
                    ],
                    "choropleth": [
                      {
                        "colorbar": {
                          "outlinewidth": 0,
                          "ticks": ""
                        },
                        "type": "choropleth"
                      }
                    ],
                    "contour": [
                      {
                        "colorbar": {
                          "outlinewidth": 0,
                          "ticks": ""
                        },
                        "colorscale": [
                          [
                            0,
                            "#0d0887"
                          ],
                          [
                            0.1111111111111111,
                            "#46039f"
                          ],
                          [
                            0.2222222222222222,
                            "#7201a8"
                          ],
                          [
                            0.3333333333333333,
                            "#9c179e"
                          ],
                          [
                            0.4444444444444444,
                            "#bd3786"
                          ],
                          [
                            0.5555555555555556,
                            "#d8576b"
                          ],
                          [
                            0.6666666666666666,
                            "#ed7953"
                          ],
                          [
                            0.7777777777777778,
                            "#fb9f3a"
                          ],
                          [
                            0.8888888888888888,
                            "#fdca26"
                          ],
                          [
                            1,
                            "#f0f921"
                          ]
                        ],
                        "type": "contour"
                      }
                    ],
                    "contourcarpet": [
                      {
                        "colorbar": {
                          "outlinewidth": 0,
                          "ticks": ""
                        },
                        "type": "contourcarpet"
                      }
                    ],
                    "heatmap": [
                      {
                        "colorbar": {
                          "outlinewidth": 0,
                          "ticks": ""
                        },
                        "colorscale": [
                          [
                            0,
                            "#0d0887"
                          ],
                          [
                            0.1111111111111111,
                            "#46039f"
                          ],
                          [
                            0.2222222222222222,
                            "#7201a8"
                          ],
                          [
                            0.3333333333333333,
                            "#9c179e"
                          ],
                          [
                            0.4444444444444444,
                            "#bd3786"
                          ],
                          [
                            0.5555555555555556,
                            "#d8576b"
                          ],
                          [
                            0.6666666666666666,
                            "#ed7953"
                          ],
                          [
                            0.7777777777777778,
                            "#fb9f3a"
                          ],
                          [
                            0.8888888888888888,
                            "#fdca26"
                          ],
                          [
                            1,
                            "#f0f921"
                          ]
                        ],
                        "type": "heatmap"
                      }
                    ],
                    "heatmapgl": [
                      {
                        "colorbar": {
                          "outlinewidth": 0,
                          "ticks": ""
                        },
                        "colorscale": [
                          [
                            0,
                            "#0d0887"
                          ],
                          [
                            0.1111111111111111,
                            "#46039f"
                          ],
                          [
                            0.2222222222222222,
                            "#7201a8"
                          ],
                          [
                            0.3333333333333333,
                            "#9c179e"
                          ],
                          [
                            0.4444444444444444,
                            "#bd3786"
                          ],
                          [
                            0.5555555555555556,
                            "#d8576b"
                          ],
                          [
                            0.6666666666666666,
                            "#ed7953"
                          ],
                          [
                            0.7777777777777778,
                            "#fb9f3a"
                          ],
                          [
                            0.8888888888888888,
                            "#fdca26"
                          ],
                          [
                            1,
                            "#f0f921"
                          ]
                        ],
                        "type": "heatmapgl"
                      }
                    ],
                    "histogram": [
                      {
                        "marker": {
                          "pattern": {
                            "fillmode": "overlay",
                            "size": 10,
                            "solidity": 0.2
                          }
                        },
                        "type": "histogram"
                      }
                    ],
                    "histogram2d": [
                      {
                        "colorbar": {
                          "outlinewidth": 0,
                          "ticks": ""
                        },
                        "colorscale": [
                          [
                            0,
                            "#0d0887"
                          ],
                          [
                            0.1111111111111111,
                            "#46039f"
                          ],
                          [
                            0.2222222222222222,
                            "#7201a8"
                          ],
                          [
                            0.3333333333333333,
                            "#9c179e"
                          ],
                          [
                            0.4444444444444444,
                            "#bd3786"
                          ],
                          [
                            0.5555555555555556,
                            "#d8576b"
                          ],
                          [
                            0.6666666666666666,
                            "#ed7953"
                          ],
                          [
                            0.7777777777777778,
                            "#fb9f3a"
                          ],
                          [
                            0.8888888888888888,
                            "#fdca26"
                          ],
                          [
                            1,
                            "#f0f921"
                          ]
                        ],
                        "type": "histogram2d"
                      }
                    ],
                    "histogram2dcontour": [
                      {
                        "colorbar": {
                          "outlinewidth": 0,
                          "ticks": ""
                        },
                        "colorscale": [
                          [
                            0,
                            "#0d0887"
                          ],
                          [
                            0.1111111111111111,
                            "#46039f"
                          ],
                          [
                            0.2222222222222222,
                            "#7201a8"
                          ],
                          [
                            0.3333333333333333,
                            "#9c179e"
                          ],
                          [
                            0.4444444444444444,
                            "#bd3786"
                          ],
                          [
                            0.5555555555555556,
                            "#d8576b"
                          ],
                          [
                            0.6666666666666666,
                            "#ed7953"
                          ],
                          [
                            0.7777777777777778,
                            "#fb9f3a"
                          ],
                          [
                            0.8888888888888888,
                            "#fdca26"
                          ],
                          [
                            1,
                            "#f0f921"
                          ]
                        ],
                        "type": "histogram2dcontour"
                      }
                    ],
                    "mesh3d": [
                      {
                        "colorbar": {
                          "outlinewidth": 0,
                          "ticks": ""
                        },
                        "type": "mesh3d"
                      }
                    ],
                    "parcoords": [
                      {
                        "line": {
                          "colorbar": {
                            "outlinewidth": 0,
                            "ticks": ""
                          }
                        },
                        "type": "parcoords"
                      }
                    ],
                    "pie": [
                      {
                        "automargin": true,
                        "type": "pie"
                      }
                    ],
                    "scatter": [
                      {
                        "fillpattern": {
                          "fillmode": "overlay",
                          "size": 10,
                          "solidity": 0.2
                        },
                        "type": "scatter"
                      }
                    ],
                    "scatter3d": [
                      {
                        "line": {
                          "colorbar": {
                            "outlinewidth": 0,
                            "ticks": ""
                          }
                        },
                        "marker": {
                          "colorbar": {
                            "outlinewidth": 0,
                            "ticks": ""
                          }
                        },
                        "type": "scatter3d"
                      }
                    ],
                    "scattercarpet": [
                      {
                        "marker": {
                          "colorbar": {
                            "outlinewidth": 0,
                            "ticks": ""
                          }
                        },
                        "type": "scattercarpet"
                      }
                    ],
                    "scattergeo": [
                      {
                        "marker": {
                          "colorbar": {
                            "outlinewidth": 0,
                            "ticks": ""
                          }
                        },
                        "type": "scattergeo"
                      }
                    ],
                    "scattergl": [
                      {
                        "marker": {
                          "colorbar": {
                            "outlinewidth": 0,
                            "ticks": ""
                          }
                        },
                        "type": "scattergl"
                      }
                    ],
                    "scattermapbox": [
                      {
                        "marker": {
                          "colorbar": {
                            "outlinewidth": 0,
                            "ticks": ""
                          }
                        },
                        "type": "scattermapbox"
                      }
                    ],
                    "scatterpolar": [
                      {
                        "marker": {
                          "colorbar": {
                            "outlinewidth": 0,
                            "ticks": ""
                          }
                        },
                        "type": "scatterpolar"
                      }
                    ],
                    "scatterpolargl": [
                      {
                        "marker": {
                          "colorbar": {
                            "outlinewidth": 0,
                            "ticks": ""
                          }
                        },
                        "type": "scatterpolargl"
                      }
                    ],
                    "scatterternary": [
                      {
                        "marker": {
                          "colorbar": {
                            "outlinewidth": 0,
                            "ticks": ""
                          }
                        },
                        "type": "scatterternary"
                      }
                    ],
                    "surface": [
                      {
                        "colorbar": {
                          "outlinewidth": 0,
                          "ticks": ""
                        },
                        "colorscale": [
                          [
                            0,
                            "#0d0887"
                          ],
                          [
                            0.1111111111111111,
                            "#46039f"
                          ],
                          [
                            0.2222222222222222,
                            "#7201a8"
                          ],
                          [
                            0.3333333333333333,
                            "#9c179e"
                          ],
                          [
                            0.4444444444444444,
                            "#bd3786"
                          ],
                          [
                            0.5555555555555556,
                            "#d8576b"
                          ],
                          [
                            0.6666666666666666,
                            "#ed7953"
                          ],
                          [
                            0.7777777777777778,
                            "#fb9f3a"
                          ],
                          [
                            0.8888888888888888,
                            "#fdca26"
                          ],
                          [
                            1,
                            "#f0f921"
                          ]
                        ],
                        "type": "surface"
                      }
                    ],
                    "table": [
                      {
                        "cells": {
                          "fill": {
                            "color": "#EBF0F8"
                          },
                          "line": {
                            "color": "white"
                          }
                        },
                        "header": {
                          "fill": {
                            "color": "#C8D4E3"
                          },
                          "line": {
                            "color": "white"
                          }
                        },
                        "type": "table"
                      }
                    ]
                  },
                  "layout": {
                    "annotationdefaults": {
                      "arrowcolor": "#2a3f5f",
                      "arrowhead": 0,
                      "arrowwidth": 1
                    },
                    "autotypenumbers": "strict",
                    "coloraxis": {
                      "colorbar": {
                        "outlinewidth": 0,
                        "ticks": ""
                      }
                    },
                    "colorscale": {
                      "diverging": [
                        [
                          0,
                          "#8e0152"
                        ],
                        [
                          0.1,
                          "#c51b7d"
                        ],
                        [
                          0.2,
                          "#de77ae"
                        ],
                        [
                          0.3,
                          "#f1b6da"
                        ],
                        [
                          0.4,
                          "#fde0ef"
                        ],
                        [
                          0.5,
                          "#f7f7f7"
                        ],
                        [
                          0.6,
                          "#e6f5d0"
                        ],
                        [
                          0.7,
                          "#b8e186"
                        ],
                        [
                          0.8,
                          "#7fbc41"
                        ],
                        [
                          0.9,
                          "#4d9221"
                        ],
                        [
                          1,
                          "#276419"
                        ]
                      ],
                      "sequential": [
                        [
                          0,
                          "#0d0887"
                        ],
                        [
                          0.1111111111111111,
                          "#46039f"
                        ],
                        [
                          0.2222222222222222,
                          "#7201a8"
                        ],
                        [
                          0.3333333333333333,
                          "#9c179e"
                        ],
                        [
                          0.4444444444444444,
                          "#bd3786"
                        ],
                        [
                          0.5555555555555556,
                          "#d8576b"
                        ],
                        [
                          0.6666666666666666,
                          "#ed7953"
                        ],
                        [
                          0.7777777777777778,
                          "#fb9f3a"
                        ],
                        [
                          0.8888888888888888,
                          "#fdca26"
                        ],
                        [
                          1,
                          "#f0f921"
                        ]
                      ],
                      "sequentialminus": [
                        [
                          0,
                          "#0d0887"
                        ],
                        [
                          0.1111111111111111,
                          "#46039f"
                        ],
                        [
                          0.2222222222222222,
                          "#7201a8"
                        ],
                        [
                          0.3333333333333333,
                          "#9c179e"
                        ],
                        [
                          0.4444444444444444,
                          "#bd3786"
                        ],
                        [
                          0.5555555555555556,
                          "#d8576b"
                        ],
                        [
                          0.6666666666666666,
                          "#ed7953"
                        ],
                        [
                          0.7777777777777778,
                          "#fb9f3a"
                        ],
                        [
                          0.8888888888888888,
                          "#fdca26"
                        ],
                        [
                          1,
                          "#f0f921"
                        ]
                      ]
                    },
                    "colorway": [
                      "#636efa",
                      "#EF553B",
                      "#00cc96",
                      "#ab63fa",
                      "#FFA15A",
                      "#19d3f3",
                      "#FF6692",
                      "#B6E880",
                      "#FF97FF",
                      "#FECB52"
                    ],
                    "font": {
                      "color": "#2a3f5f"
                    },
                    "geo": {
                      "bgcolor": "white",
                      "lakecolor": "white",
                      "landcolor": "#E5ECF6",
                      "showlakes": true,
                      "showland": true,
                      "subunitcolor": "white"
                    },
                    "hoverlabel": {
                      "align": "left"
                    },
                    "hovermode": "closest",
                    "mapbox": {
                      "style": "light"
                    },
                    "paper_bgcolor": "white",
                    "plot_bgcolor": "#E5ECF6",
                    "polar": {
                      "angularaxis": {
                        "gridcolor": "white",
                        "linecolor": "white",
                        "ticks": ""
                      },
                      "bgcolor": "#E5ECF6",
                      "radialaxis": {
                        "gridcolor": "white",
                        "linecolor": "white",
                        "ticks": ""
                      }
                    },
                    "scene": {
                      "xaxis": {
                        "backgroundcolor": "#E5ECF6",
                        "gridcolor": "white",
                        "gridwidth": 2,
                        "linecolor": "white",
                        "showbackground": true,
                        "ticks": "",
                        "zerolinecolor": "white"
                      },
                      "yaxis": {
                        "backgroundcolor": "#E5ECF6",
                        "gridcolor": "white",
                        "gridwidth": 2,
                        "linecolor": "white",
                        "showbackground": true,
                        "ticks": "",
                        "zerolinecolor": "white"
                      },
                      "zaxis": {
                        "backgroundcolor": "#E5ECF6",
                        "gridcolor": "white",
                        "gridwidth": 2,
                        "linecolor": "white",
                        "showbackground": true,
                        "ticks": "",
                        "zerolinecolor": "white"
                      }
                    },
                    "shapedefaults": {
                      "line": {
                        "color": "#2a3f5f"
                      }
                    },
                    "ternary": {
                      "aaxis": {
                        "gridcolor": "white",
                        "linecolor": "white",
                        "ticks": ""
                      },
                      "baxis": {
                        "gridcolor": "white",
                        "linecolor": "white",
                        "ticks": ""
                      },
                      "bgcolor": "#E5ECF6",
                      "caxis": {
                        "gridcolor": "white",
                        "linecolor": "white",
                        "ticks": ""
                      }
                    },
                    "title": {
                      "x": 0.05
                    },
                    "xaxis": {
                      "automargin": true,
                      "gridcolor": "white",
                      "linecolor": "white",
                      "ticks": "",
                      "title": {
                        "standoff": 15
                      },
                      "zerolinecolor": "white",
                      "zerolinewidth": 2
                    },
                    "yaxis": {
                      "automargin": true,
                      "gridcolor": "white",
                      "linecolor": "white",
                      "ticks": "",
                      "title": {
                        "standoff": 15
                      },
                      "zerolinecolor": "white",
                      "zerolinewidth": 2
                    }
                  }
                },
                "xaxis": {
                  "anchor": "y",
                  "domain": [
                    0,
                    1
                  ],
                  "title": {
                    "text": "price"
                  }
                },
                "xaxis2": {
                  "anchor": "y2",
                  "domain": [
                    0,
                    1
                  ],
                  "matches": "x",
                  "showgrid": true,
                  "showticklabels": false
                },
                "yaxis": {
                  "anchor": "x",
                  "domain": [
                    0,
                    0.8316
                  ],
                  "title": {
                    "text": "count"
                  }
                },
                "yaxis2": {
                  "anchor": "x2",
                  "domain": [
                    0.8416,
                    1
                  ],
                  "matches": "y2",
                  "showgrid": false,
                  "showline": false,
                  "showticklabels": false,
                  "ticks": ""
                }
              }
            }
          },
          "metadata": {},
          "output_type": "display_data"
        }
      ],
      "source": [
        "# воспользуемся функцией histogram()\n",
        "px.histogram(data, # передав ей датафрейм,\n",
        "             x = 'price', # конкретный столбец для построения данных,\n",
        "             nbins = 10, # количество интервалов в гистограмме\n",
        "             marginal = 'box') # и тип дополнительного графика"
      ]
    },
    {
      "cell_type": "code",
      "execution_count": 46,
      "metadata": {},
      "outputs": [
        {
          "data": {
            "application/vnd.plotly.v1+json": {
              "config": {
                "plotlyServerURL": "https://plot.ly"
              },
              "data": [
                {
                  "alignmentgroup": "True",
                  "bingroup": "x",
                  "hovertemplate": "area_(ft.)=%{x}<br>count=%{y}<extra></extra>",
                  "legendgroup": "",
                  "marker": {
                    "color": "#636efa",
                    "pattern": {
                      "shape": ""
                    }
                  },
                  "name": "",
                  "nbinsx": 10,
                  "offsetgroup": "",
                  "orientation": "v",
                  "showlegend": false,
                  "type": "histogram",
                  "x": [
                    743.09,
                    756.21,
                    587.28,
                    1604.75,
                    1375.45,
                    675.19,
                    670.89,
                    720.81,
                    782.25,
                    794.52,
                    1160.36,
                    1942.5,
                    794.52,
                    1109.25,
                    1400.95,
                    1479.72,
                    790.54,
                    723.93,
                    781.07,
                    1127.76,
                    720.7,
                    649.69,
                    1307.45,
                    618.38,
                    625.8,
                    1203.29,
                    670.89,
                    1434.09,
                    781.07,
                    1596.35,
                    1110.32,
                    781.07,
                    697.89,
                    625.8,
                    957.53,
                    722.96,
                    923.21,
                    670.24,
                    785.48,
                    798.28,
                    1121.95,
                    782.25,
                    923.21,
                    1434.09,
                    1160.36,
                    798.28,
                    733.19,
                    798.28,
                    733.19,
                    717.05,
                    747.5,
                    1121.95,
                    1121.95,
                    827.87,
                    747.5,
                    1608.84,
                    1132.06,
                    1383.84,
                    927.83,
                    669.16,
                    928.16,
                    798.5,
                    1305.62,
                    1121.95,
                    785.48,
                    927.08,
                    1109.25,
                    649.8,
                    785.48,
                    1596.35,
                    1121.95,
                    743.41,
                    756.21,
                    649.8,
                    785.48,
                    785.48,
                    1283.45,
                    1434.09,
                    782.25,
                    1288.62,
                    781.07,
                    1222.34,
                    781.07,
                    743.09,
                    785.48,
                    1109.25,
                    579.75,
                    1128.4,
                    701.66,
                    1336.93,
                    794.52,
                    1171.55,
                    794.52,
                    798.28,
                    798.28,
                    649.8,
                    1137.44,
                    1604.75,
                    675.19,
                    649.69,
                    785.48,
                    781.07,
                    1127.76,
                    794.52,
                    794.52,
                    781.07,
                    720.81,
                    927.83,
                    927.83,
                    785.48,
                    618.16,
                    1109.25,
                    720.7,
                    720.81,
                    927.08,
                    798.28,
                    1057.92,
                    781.07,
                    1396.86,
                    794.52,
                    923.21,
                    781.07,
                    782.25,
                    733.19,
                    733.19,
                    794.52,
                    756.21,
                    736.63,
                    785.48,
                    781.07,
                    798.28,
                    798.28,
                    827.87,
                    1160.36,
                    827.87,
                    723.83,
                    798.28,
                    1238.58,
                    723.83,
                    977.87,
                    1093,
                    927.83,
                    701.66,
                    680.57,
                    723.93,
                    649.8,
                    649.8,
                    785.48,
                    785.48,
                    1615.29,
                    1132.06,
                    720.38,
                    733.19,
                    782.25,
                    798.28,
                    1057.92,
                    723.83,
                    798.28,
                    794.52,
                    794.52,
                    782.25,
                    785.48,
                    923.21,
                    923.21,
                    1434.09,
                    782.25,
                    781.07,
                    618.38,
                    923.21,
                    781.07,
                    781.07,
                    781.07,
                    697.89,
                    670.89,
                    782.25,
                    743.41,
                    923.21,
                    923.21,
                    410.71,
                    1200.82,
                    800.96,
                    827.87,
                    775.69,
                    775.69,
                    1604.75,
                    587.28,
                    756.21,
                    743.09,
                    827.87,
                    1160.36,
                    743.09,
                    1160.36,
                    625.8,
                    756.21,
                    625.8
                  ],
                  "xaxis": "x",
                  "yaxis": "y"
                },
                {
                  "alignmentgroup": "True",
                  "hovertemplate": "area_(ft.)=%{x}<extra></extra>",
                  "legendgroup": "",
                  "marker": {
                    "color": "#636efa"
                  },
                  "name": "",
                  "notched": true,
                  "offsetgroup": "",
                  "showlegend": false,
                  "type": "box",
                  "x": [
                    743.09,
                    756.21,
                    587.28,
                    1604.75,
                    1375.45,
                    675.19,
                    670.89,
                    720.81,
                    782.25,
                    794.52,
                    1160.36,
                    1942.5,
                    794.52,
                    1109.25,
                    1400.95,
                    1479.72,
                    790.54,
                    723.93,
                    781.07,
                    1127.76,
                    720.7,
                    649.69,
                    1307.45,
                    618.38,
                    625.8,
                    1203.29,
                    670.89,
                    1434.09,
                    781.07,
                    1596.35,
                    1110.32,
                    781.07,
                    697.89,
                    625.8,
                    957.53,
                    722.96,
                    923.21,
                    670.24,
                    785.48,
                    798.28,
                    1121.95,
                    782.25,
                    923.21,
                    1434.09,
                    1160.36,
                    798.28,
                    733.19,
                    798.28,
                    733.19,
                    717.05,
                    747.5,
                    1121.95,
                    1121.95,
                    827.87,
                    747.5,
                    1608.84,
                    1132.06,
                    1383.84,
                    927.83,
                    669.16,
                    928.16,
                    798.5,
                    1305.62,
                    1121.95,
                    785.48,
                    927.08,
                    1109.25,
                    649.8,
                    785.48,
                    1596.35,
                    1121.95,
                    743.41,
                    756.21,
                    649.8,
                    785.48,
                    785.48,
                    1283.45,
                    1434.09,
                    782.25,
                    1288.62,
                    781.07,
                    1222.34,
                    781.07,
                    743.09,
                    785.48,
                    1109.25,
                    579.75,
                    1128.4,
                    701.66,
                    1336.93,
                    794.52,
                    1171.55,
                    794.52,
                    798.28,
                    798.28,
                    649.8,
                    1137.44,
                    1604.75,
                    675.19,
                    649.69,
                    785.48,
                    781.07,
                    1127.76,
                    794.52,
                    794.52,
                    781.07,
                    720.81,
                    927.83,
                    927.83,
                    785.48,
                    618.16,
                    1109.25,
                    720.7,
                    720.81,
                    927.08,
                    798.28,
                    1057.92,
                    781.07,
                    1396.86,
                    794.52,
                    923.21,
                    781.07,
                    782.25,
                    733.19,
                    733.19,
                    794.52,
                    756.21,
                    736.63,
                    785.48,
                    781.07,
                    798.28,
                    798.28,
                    827.87,
                    1160.36,
                    827.87,
                    723.83,
                    798.28,
                    1238.58,
                    723.83,
                    977.87,
                    1093,
                    927.83,
                    701.66,
                    680.57,
                    723.93,
                    649.8,
                    649.8,
                    785.48,
                    785.48,
                    1615.29,
                    1132.06,
                    720.38,
                    733.19,
                    782.25,
                    798.28,
                    1057.92,
                    723.83,
                    798.28,
                    794.52,
                    794.52,
                    782.25,
                    785.48,
                    923.21,
                    923.21,
                    1434.09,
                    782.25,
                    781.07,
                    618.38,
                    923.21,
                    781.07,
                    781.07,
                    781.07,
                    697.89,
                    670.89,
                    782.25,
                    743.41,
                    923.21,
                    923.21,
                    410.71,
                    1200.82,
                    800.96,
                    827.87,
                    775.69,
                    775.69,
                    1604.75,
                    587.28,
                    756.21,
                    743.09,
                    827.87,
                    1160.36,
                    743.09,
                    1160.36,
                    625.8,
                    756.21,
                    625.8
                  ],
                  "xaxis": "x2",
                  "yaxis": "y2"
                }
              ],
              "layout": {
                "barmode": "relative",
                "legend": {
                  "tracegroupgap": 0
                },
                "margin": {
                  "t": 60
                },
                "template": {
                  "data": {
                    "bar": [
                      {
                        "error_x": {
                          "color": "#2a3f5f"
                        },
                        "error_y": {
                          "color": "#2a3f5f"
                        },
                        "marker": {
                          "line": {
                            "color": "#E5ECF6",
                            "width": 0.5
                          },
                          "pattern": {
                            "fillmode": "overlay",
                            "size": 10,
                            "solidity": 0.2
                          }
                        },
                        "type": "bar"
                      }
                    ],
                    "barpolar": [
                      {
                        "marker": {
                          "line": {
                            "color": "#E5ECF6",
                            "width": 0.5
                          },
                          "pattern": {
                            "fillmode": "overlay",
                            "size": 10,
                            "solidity": 0.2
                          }
                        },
                        "type": "barpolar"
                      }
                    ],
                    "carpet": [
                      {
                        "aaxis": {
                          "endlinecolor": "#2a3f5f",
                          "gridcolor": "white",
                          "linecolor": "white",
                          "minorgridcolor": "white",
                          "startlinecolor": "#2a3f5f"
                        },
                        "baxis": {
                          "endlinecolor": "#2a3f5f",
                          "gridcolor": "white",
                          "linecolor": "white",
                          "minorgridcolor": "white",
                          "startlinecolor": "#2a3f5f"
                        },
                        "type": "carpet"
                      }
                    ],
                    "choropleth": [
                      {
                        "colorbar": {
                          "outlinewidth": 0,
                          "ticks": ""
                        },
                        "type": "choropleth"
                      }
                    ],
                    "contour": [
                      {
                        "colorbar": {
                          "outlinewidth": 0,
                          "ticks": ""
                        },
                        "colorscale": [
                          [
                            0,
                            "#0d0887"
                          ],
                          [
                            0.1111111111111111,
                            "#46039f"
                          ],
                          [
                            0.2222222222222222,
                            "#7201a8"
                          ],
                          [
                            0.3333333333333333,
                            "#9c179e"
                          ],
                          [
                            0.4444444444444444,
                            "#bd3786"
                          ],
                          [
                            0.5555555555555556,
                            "#d8576b"
                          ],
                          [
                            0.6666666666666666,
                            "#ed7953"
                          ],
                          [
                            0.7777777777777778,
                            "#fb9f3a"
                          ],
                          [
                            0.8888888888888888,
                            "#fdca26"
                          ],
                          [
                            1,
                            "#f0f921"
                          ]
                        ],
                        "type": "contour"
                      }
                    ],
                    "contourcarpet": [
                      {
                        "colorbar": {
                          "outlinewidth": 0,
                          "ticks": ""
                        },
                        "type": "contourcarpet"
                      }
                    ],
                    "heatmap": [
                      {
                        "colorbar": {
                          "outlinewidth": 0,
                          "ticks": ""
                        },
                        "colorscale": [
                          [
                            0,
                            "#0d0887"
                          ],
                          [
                            0.1111111111111111,
                            "#46039f"
                          ],
                          [
                            0.2222222222222222,
                            "#7201a8"
                          ],
                          [
                            0.3333333333333333,
                            "#9c179e"
                          ],
                          [
                            0.4444444444444444,
                            "#bd3786"
                          ],
                          [
                            0.5555555555555556,
                            "#d8576b"
                          ],
                          [
                            0.6666666666666666,
                            "#ed7953"
                          ],
                          [
                            0.7777777777777778,
                            "#fb9f3a"
                          ],
                          [
                            0.8888888888888888,
                            "#fdca26"
                          ],
                          [
                            1,
                            "#f0f921"
                          ]
                        ],
                        "type": "heatmap"
                      }
                    ],
                    "heatmapgl": [
                      {
                        "colorbar": {
                          "outlinewidth": 0,
                          "ticks": ""
                        },
                        "colorscale": [
                          [
                            0,
                            "#0d0887"
                          ],
                          [
                            0.1111111111111111,
                            "#46039f"
                          ],
                          [
                            0.2222222222222222,
                            "#7201a8"
                          ],
                          [
                            0.3333333333333333,
                            "#9c179e"
                          ],
                          [
                            0.4444444444444444,
                            "#bd3786"
                          ],
                          [
                            0.5555555555555556,
                            "#d8576b"
                          ],
                          [
                            0.6666666666666666,
                            "#ed7953"
                          ],
                          [
                            0.7777777777777778,
                            "#fb9f3a"
                          ],
                          [
                            0.8888888888888888,
                            "#fdca26"
                          ],
                          [
                            1,
                            "#f0f921"
                          ]
                        ],
                        "type": "heatmapgl"
                      }
                    ],
                    "histogram": [
                      {
                        "marker": {
                          "pattern": {
                            "fillmode": "overlay",
                            "size": 10,
                            "solidity": 0.2
                          }
                        },
                        "type": "histogram"
                      }
                    ],
                    "histogram2d": [
                      {
                        "colorbar": {
                          "outlinewidth": 0,
                          "ticks": ""
                        },
                        "colorscale": [
                          [
                            0,
                            "#0d0887"
                          ],
                          [
                            0.1111111111111111,
                            "#46039f"
                          ],
                          [
                            0.2222222222222222,
                            "#7201a8"
                          ],
                          [
                            0.3333333333333333,
                            "#9c179e"
                          ],
                          [
                            0.4444444444444444,
                            "#bd3786"
                          ],
                          [
                            0.5555555555555556,
                            "#d8576b"
                          ],
                          [
                            0.6666666666666666,
                            "#ed7953"
                          ],
                          [
                            0.7777777777777778,
                            "#fb9f3a"
                          ],
                          [
                            0.8888888888888888,
                            "#fdca26"
                          ],
                          [
                            1,
                            "#f0f921"
                          ]
                        ],
                        "type": "histogram2d"
                      }
                    ],
                    "histogram2dcontour": [
                      {
                        "colorbar": {
                          "outlinewidth": 0,
                          "ticks": ""
                        },
                        "colorscale": [
                          [
                            0,
                            "#0d0887"
                          ],
                          [
                            0.1111111111111111,
                            "#46039f"
                          ],
                          [
                            0.2222222222222222,
                            "#7201a8"
                          ],
                          [
                            0.3333333333333333,
                            "#9c179e"
                          ],
                          [
                            0.4444444444444444,
                            "#bd3786"
                          ],
                          [
                            0.5555555555555556,
                            "#d8576b"
                          ],
                          [
                            0.6666666666666666,
                            "#ed7953"
                          ],
                          [
                            0.7777777777777778,
                            "#fb9f3a"
                          ],
                          [
                            0.8888888888888888,
                            "#fdca26"
                          ],
                          [
                            1,
                            "#f0f921"
                          ]
                        ],
                        "type": "histogram2dcontour"
                      }
                    ],
                    "mesh3d": [
                      {
                        "colorbar": {
                          "outlinewidth": 0,
                          "ticks": ""
                        },
                        "type": "mesh3d"
                      }
                    ],
                    "parcoords": [
                      {
                        "line": {
                          "colorbar": {
                            "outlinewidth": 0,
                            "ticks": ""
                          }
                        },
                        "type": "parcoords"
                      }
                    ],
                    "pie": [
                      {
                        "automargin": true,
                        "type": "pie"
                      }
                    ],
                    "scatter": [
                      {
                        "fillpattern": {
                          "fillmode": "overlay",
                          "size": 10,
                          "solidity": 0.2
                        },
                        "type": "scatter"
                      }
                    ],
                    "scatter3d": [
                      {
                        "line": {
                          "colorbar": {
                            "outlinewidth": 0,
                            "ticks": ""
                          }
                        },
                        "marker": {
                          "colorbar": {
                            "outlinewidth": 0,
                            "ticks": ""
                          }
                        },
                        "type": "scatter3d"
                      }
                    ],
                    "scattercarpet": [
                      {
                        "marker": {
                          "colorbar": {
                            "outlinewidth": 0,
                            "ticks": ""
                          }
                        },
                        "type": "scattercarpet"
                      }
                    ],
                    "scattergeo": [
                      {
                        "marker": {
                          "colorbar": {
                            "outlinewidth": 0,
                            "ticks": ""
                          }
                        },
                        "type": "scattergeo"
                      }
                    ],
                    "scattergl": [
                      {
                        "marker": {
                          "colorbar": {
                            "outlinewidth": 0,
                            "ticks": ""
                          }
                        },
                        "type": "scattergl"
                      }
                    ],
                    "scattermapbox": [
                      {
                        "marker": {
                          "colorbar": {
                            "outlinewidth": 0,
                            "ticks": ""
                          }
                        },
                        "type": "scattermapbox"
                      }
                    ],
                    "scatterpolar": [
                      {
                        "marker": {
                          "colorbar": {
                            "outlinewidth": 0,
                            "ticks": ""
                          }
                        },
                        "type": "scatterpolar"
                      }
                    ],
                    "scatterpolargl": [
                      {
                        "marker": {
                          "colorbar": {
                            "outlinewidth": 0,
                            "ticks": ""
                          }
                        },
                        "type": "scatterpolargl"
                      }
                    ],
                    "scatterternary": [
                      {
                        "marker": {
                          "colorbar": {
                            "outlinewidth": 0,
                            "ticks": ""
                          }
                        },
                        "type": "scatterternary"
                      }
                    ],
                    "surface": [
                      {
                        "colorbar": {
                          "outlinewidth": 0,
                          "ticks": ""
                        },
                        "colorscale": [
                          [
                            0,
                            "#0d0887"
                          ],
                          [
                            0.1111111111111111,
                            "#46039f"
                          ],
                          [
                            0.2222222222222222,
                            "#7201a8"
                          ],
                          [
                            0.3333333333333333,
                            "#9c179e"
                          ],
                          [
                            0.4444444444444444,
                            "#bd3786"
                          ],
                          [
                            0.5555555555555556,
                            "#d8576b"
                          ],
                          [
                            0.6666666666666666,
                            "#ed7953"
                          ],
                          [
                            0.7777777777777778,
                            "#fb9f3a"
                          ],
                          [
                            0.8888888888888888,
                            "#fdca26"
                          ],
                          [
                            1,
                            "#f0f921"
                          ]
                        ],
                        "type": "surface"
                      }
                    ],
                    "table": [
                      {
                        "cells": {
                          "fill": {
                            "color": "#EBF0F8"
                          },
                          "line": {
                            "color": "white"
                          }
                        },
                        "header": {
                          "fill": {
                            "color": "#C8D4E3"
                          },
                          "line": {
                            "color": "white"
                          }
                        },
                        "type": "table"
                      }
                    ]
                  },
                  "layout": {
                    "annotationdefaults": {
                      "arrowcolor": "#2a3f5f",
                      "arrowhead": 0,
                      "arrowwidth": 1
                    },
                    "autotypenumbers": "strict",
                    "coloraxis": {
                      "colorbar": {
                        "outlinewidth": 0,
                        "ticks": ""
                      }
                    },
                    "colorscale": {
                      "diverging": [
                        [
                          0,
                          "#8e0152"
                        ],
                        [
                          0.1,
                          "#c51b7d"
                        ],
                        [
                          0.2,
                          "#de77ae"
                        ],
                        [
                          0.3,
                          "#f1b6da"
                        ],
                        [
                          0.4,
                          "#fde0ef"
                        ],
                        [
                          0.5,
                          "#f7f7f7"
                        ],
                        [
                          0.6,
                          "#e6f5d0"
                        ],
                        [
                          0.7,
                          "#b8e186"
                        ],
                        [
                          0.8,
                          "#7fbc41"
                        ],
                        [
                          0.9,
                          "#4d9221"
                        ],
                        [
                          1,
                          "#276419"
                        ]
                      ],
                      "sequential": [
                        [
                          0,
                          "#0d0887"
                        ],
                        [
                          0.1111111111111111,
                          "#46039f"
                        ],
                        [
                          0.2222222222222222,
                          "#7201a8"
                        ],
                        [
                          0.3333333333333333,
                          "#9c179e"
                        ],
                        [
                          0.4444444444444444,
                          "#bd3786"
                        ],
                        [
                          0.5555555555555556,
                          "#d8576b"
                        ],
                        [
                          0.6666666666666666,
                          "#ed7953"
                        ],
                        [
                          0.7777777777777778,
                          "#fb9f3a"
                        ],
                        [
                          0.8888888888888888,
                          "#fdca26"
                        ],
                        [
                          1,
                          "#f0f921"
                        ]
                      ],
                      "sequentialminus": [
                        [
                          0,
                          "#0d0887"
                        ],
                        [
                          0.1111111111111111,
                          "#46039f"
                        ],
                        [
                          0.2222222222222222,
                          "#7201a8"
                        ],
                        [
                          0.3333333333333333,
                          "#9c179e"
                        ],
                        [
                          0.4444444444444444,
                          "#bd3786"
                        ],
                        [
                          0.5555555555555556,
                          "#d8576b"
                        ],
                        [
                          0.6666666666666666,
                          "#ed7953"
                        ],
                        [
                          0.7777777777777778,
                          "#fb9f3a"
                        ],
                        [
                          0.8888888888888888,
                          "#fdca26"
                        ],
                        [
                          1,
                          "#f0f921"
                        ]
                      ]
                    },
                    "colorway": [
                      "#636efa",
                      "#EF553B",
                      "#00cc96",
                      "#ab63fa",
                      "#FFA15A",
                      "#19d3f3",
                      "#FF6692",
                      "#B6E880",
                      "#FF97FF",
                      "#FECB52"
                    ],
                    "font": {
                      "color": "#2a3f5f"
                    },
                    "geo": {
                      "bgcolor": "white",
                      "lakecolor": "white",
                      "landcolor": "#E5ECF6",
                      "showlakes": true,
                      "showland": true,
                      "subunitcolor": "white"
                    },
                    "hoverlabel": {
                      "align": "left"
                    },
                    "hovermode": "closest",
                    "mapbox": {
                      "style": "light"
                    },
                    "paper_bgcolor": "white",
                    "plot_bgcolor": "#E5ECF6",
                    "polar": {
                      "angularaxis": {
                        "gridcolor": "white",
                        "linecolor": "white",
                        "ticks": ""
                      },
                      "bgcolor": "#E5ECF6",
                      "radialaxis": {
                        "gridcolor": "white",
                        "linecolor": "white",
                        "ticks": ""
                      }
                    },
                    "scene": {
                      "xaxis": {
                        "backgroundcolor": "#E5ECF6",
                        "gridcolor": "white",
                        "gridwidth": 2,
                        "linecolor": "white",
                        "showbackground": true,
                        "ticks": "",
                        "zerolinecolor": "white"
                      },
                      "yaxis": {
                        "backgroundcolor": "#E5ECF6",
                        "gridcolor": "white",
                        "gridwidth": 2,
                        "linecolor": "white",
                        "showbackground": true,
                        "ticks": "",
                        "zerolinecolor": "white"
                      },
                      "zaxis": {
                        "backgroundcolor": "#E5ECF6",
                        "gridcolor": "white",
                        "gridwidth": 2,
                        "linecolor": "white",
                        "showbackground": true,
                        "ticks": "",
                        "zerolinecolor": "white"
                      }
                    },
                    "shapedefaults": {
                      "line": {
                        "color": "#2a3f5f"
                      }
                    },
                    "ternary": {
                      "aaxis": {
                        "gridcolor": "white",
                        "linecolor": "white",
                        "ticks": ""
                      },
                      "baxis": {
                        "gridcolor": "white",
                        "linecolor": "white",
                        "ticks": ""
                      },
                      "bgcolor": "#E5ECF6",
                      "caxis": {
                        "gridcolor": "white",
                        "linecolor": "white",
                        "ticks": ""
                      }
                    },
                    "title": {
                      "x": 0.05
                    },
                    "xaxis": {
                      "automargin": true,
                      "gridcolor": "white",
                      "linecolor": "white",
                      "ticks": "",
                      "title": {
                        "standoff": 15
                      },
                      "zerolinecolor": "white",
                      "zerolinewidth": 2
                    },
                    "yaxis": {
                      "automargin": true,
                      "gridcolor": "white",
                      "linecolor": "white",
                      "ticks": "",
                      "title": {
                        "standoff": 15
                      },
                      "zerolinecolor": "white",
                      "zerolinewidth": 2
                    }
                  }
                },
                "xaxis": {
                  "anchor": "y",
                  "domain": [
                    0,
                    1
                  ],
                  "title": {
                    "text": "area_(ft.)"
                  }
                },
                "xaxis2": {
                  "anchor": "y2",
                  "domain": [
                    0,
                    1
                  ],
                  "matches": "x",
                  "showgrid": true,
                  "showticklabels": false
                },
                "yaxis": {
                  "anchor": "x",
                  "domain": [
                    0,
                    0.8316
                  ],
                  "title": {
                    "text": "count"
                  }
                },
                "yaxis2": {
                  "anchor": "x2",
                  "domain": [
                    0.8416,
                    1
                  ],
                  "matches": "y2",
                  "showgrid": false,
                  "showline": false,
                  "showticklabels": false,
                  "ticks": ""
                }
              }
            }
          },
          "metadata": {},
          "output_type": "display_data"
        }
      ],
      "source": [
        "#  воспользуемся функцией histogram()\n",
        "px.histogram(data, # передав ей датафрейм,\n",
        "             x = 'area_(ft.)', # конкретный столбец для построения данных,\n",
        "             nbins = 10, # количество интервалов в гистограмме\n",
        "             marginal = 'box') # и тип дополнительного графика"
      ]
    },
    {
      "attachments": {},
      "cell_type": "markdown",
      "metadata": {},
      "source": [
        "Удалим выбросы в этих колонках с помощью Z-score."
      ]
    },
    {
      "cell_type": "code",
      "execution_count": 47,
      "metadata": {},
      "outputs": [],
      "source": [
        "data = data[(np.abs(stats.zscore(data['area_(ft.)'])) < 3)]\n",
        "data = data[(np.abs(stats.zscore(data['price'])) < 3)]"
      ]
    },
    {
      "cell_type": "code",
      "execution_count": 48,
      "metadata": {
        "colab": {
          "base_uri": "https://localhost:8080/",
          "height": 175
        },
        "id": "yY9-4PHGTSg5",
        "outputId": "36ca4f4b-c312-4a3e-f6d9-2cef677fecc8"
      },
      "outputs": [
        {
          "data": {
            "text/html": [
              "<div>\n",
              "<style scoped>\n",
              "    .dataframe tbody tr th:only-of-type {\n",
              "        vertical-align: middle;\n",
              "    }\n",
              "\n",
              "    .dataframe tbody tr th {\n",
              "        vertical-align: top;\n",
              "    }\n",
              "\n",
              "    .dataframe thead th {\n",
              "        text-align: right;\n",
              "    }\n",
              "</style>\n",
              "<table border=\"1\" class=\"dataframe\">\n",
              "  <thead>\n",
              "    <tr style=\"text-align: right;\">\n",
              "      <th></th>\n",
              "      <th>type_of_property</th>\n",
              "      <th>customer_id</th>\n",
              "      <th>entity</th>\n",
              "      <th>age_interval_</th>\n",
              "      <th>gender</th>\n",
              "      <th>country</th>\n",
              "      <th>state</th>\n",
              "      <th>purpose</th>\n",
              "      <th>mortgage</th>\n",
              "      <th>source</th>\n",
              "    </tr>\n",
              "  </thead>\n",
              "  <tbody>\n",
              "    <tr>\n",
              "      <th>count</th>\n",
              "      <td>193</td>\n",
              "      <td>193</td>\n",
              "      <td>193</td>\n",
              "      <td>193</td>\n",
              "      <td>193</td>\n",
              "      <td>193</td>\n",
              "      <td>179</td>\n",
              "      <td>193</td>\n",
              "      <td>193</td>\n",
              "      <td>193</td>\n",
              "    </tr>\n",
              "    <tr>\n",
              "      <th>unique</th>\n",
              "      <td>2</td>\n",
              "      <td>160</td>\n",
              "      <td>2</td>\n",
              "      <td>6</td>\n",
              "      <td>2</td>\n",
              "      <td>9</td>\n",
              "      <td>9</td>\n",
              "      <td>2</td>\n",
              "      <td>2</td>\n",
              "      <td>3</td>\n",
              "    </tr>\n",
              "    <tr>\n",
              "      <th>top</th>\n",
              "      <td>Apartment</td>\n",
              "      <td>C0174</td>\n",
              "      <td>Individual</td>\n",
              "      <td>36-45</td>\n",
              "      <td>M</td>\n",
              "      <td>USA</td>\n",
              "      <td>California</td>\n",
              "      <td>Home</td>\n",
              "      <td>No</td>\n",
              "      <td>Website</td>\n",
              "    </tr>\n",
              "    <tr>\n",
              "      <th>freq</th>\n",
              "      <td>186</td>\n",
              "      <td>9</td>\n",
              "      <td>177</td>\n",
              "      <td>68</td>\n",
              "      <td>123</td>\n",
              "      <td>163</td>\n",
              "      <td>117</td>\n",
              "      <td>118</td>\n",
              "      <td>132</td>\n",
              "      <td>117</td>\n",
              "    </tr>\n",
              "  </tbody>\n",
              "</table>\n",
              "</div>"
            ],
            "text/plain": [
              "       type_of_property customer_id      entity age_interval_ gender country  \\\n",
              "count               193         193         193           193    193     193   \n",
              "unique                2         160           2             6      2       9   \n",
              "top           Apartment       C0174  Individual         36-45      M     USA   \n",
              "freq                186           9         177            68    123     163   \n",
              "\n",
              "             state purpose mortgage   source  \n",
              "count          179     193      193      193  \n",
              "unique           9       2        2        3  \n",
              "top     California    Home       No  Website  \n",
              "freq           117     118      132      117  "
            ]
          },
          "execution_count": 48,
          "metadata": {},
          "output_type": "execute_result"
        }
      ],
      "source": [
        "data.describe(include=np.object)"
      ]
    },
    {
      "attachments": {},
      "cell_type": "markdown",
      "metadata": {
        "id": "jvnXyvLgV1gP"
      },
      "source": [
        "# **Проведем сегментацию клиентов для выявления типичных групп целевых клиентов известными нам методами (кластеризацией K-средних).**\n",
        "\n"
      ]
    },
    {
      "attachments": {},
      "cell_type": "markdown",
      "metadata": {
        "id": "PDGek-DYJf3O"
      },
      "source": [
        "Предобработка данных для алгоритма k-means:\n",
        "1. Необходимо стандартизировать числовые колонки, которые будут участвовать в процессе кластеризации - это колонки 'area_(ft.)', 'price' ,'age_at_time_of_purchase'.\n",
        "2. Необходимо закодировать нечисловые признаки, которые будут участвовать в процессе кластеризации - это колонки 'building', 'type_of_property', 'entity','age_interval_','gender','state','purpose','source','deal_satisfaction'"
      ]
    },
    {
      "cell_type": "code",
      "execution_count": 49,
      "metadata": {
        "colab": {
          "base_uri": "https://localhost:8080/",
          "height": 206
        },
        "id": "RDFVS7uKJeBP",
        "outputId": "33ad632a-6a27-402e-ce7b-a0c97533e8f5"
      },
      "outputs": [
        {
          "data": {
            "text/html": [
              "<div>\n",
              "<style scoped>\n",
              "    .dataframe tbody tr th:only-of-type {\n",
              "        vertical-align: middle;\n",
              "    }\n",
              "\n",
              "    .dataframe tbody tr th {\n",
              "        vertical-align: top;\n",
              "    }\n",
              "\n",
              "    .dataframe thead th {\n",
              "        text-align: right;\n",
              "    }\n",
              "</style>\n",
              "<table border=\"1\" class=\"dataframe\">\n",
              "  <thead>\n",
              "    <tr style=\"text-align: right;\">\n",
              "      <th></th>\n",
              "      <th>area_(ft.)</th>\n",
              "      <th>price</th>\n",
              "      <th>age_at_time_of_purchase</th>\n",
              "      <th>deal_satisfaction</th>\n",
              "    </tr>\n",
              "  </thead>\n",
              "  <tbody>\n",
              "    <tr>\n",
              "      <th>0</th>\n",
              "      <td>-0.601</td>\n",
              "      <td>-0.272</td>\n",
              "      <td>-2.223</td>\n",
              "      <td>1.037</td>\n",
              "    </tr>\n",
              "    <tr>\n",
              "      <th>1</th>\n",
              "      <td>-0.547</td>\n",
              "      <td>-0.269</td>\n",
              "      <td>-1.978</td>\n",
              "      <td>1.037</td>\n",
              "    </tr>\n",
              "    <tr>\n",
              "      <th>2</th>\n",
              "      <td>-1.235</td>\n",
              "      <td>-0.755</td>\n",
              "      <td>-1.978</td>\n",
              "      <td>-1.906</td>\n",
              "    </tr>\n",
              "    <tr>\n",
              "      <th>3</th>\n",
              "      <td>2.904</td>\n",
              "      <td>2.437</td>\n",
              "      <td>-1.978</td>\n",
              "      <td>-0.435</td>\n",
              "    </tr>\n",
              "    <tr>\n",
              "      <th>4</th>\n",
              "      <td>1.971</td>\n",
              "      <td>2.626</td>\n",
              "      <td>-1.732</td>\n",
              "      <td>0.301</td>\n",
              "    </tr>\n",
              "  </tbody>\n",
              "</table>\n",
              "</div>"
            ],
            "text/plain": [
              "   area_(ft.)  price  age_at_time_of_purchase  deal_satisfaction\n",
              "0      -0.601 -0.272                   -2.223              1.037\n",
              "1      -0.547 -0.269                   -1.978              1.037\n",
              "2      -1.235 -0.755                   -1.978             -1.906\n",
              "3       2.904  2.437                   -1.978             -0.435\n",
              "4       1.971  2.626                   -1.732              0.301"
            ]
          },
          "execution_count": 49,
          "metadata": {},
          "output_type": "execute_result"
        }
      ],
      "source": [
        "# Проведем стандартизацию данных\n",
        "col_names = ['area_(ft.)', 'price' ,'age_at_time_of_purchase','deal_satisfaction']\n",
        "features = data[col_names]\n",
        "scaler = StandardScaler().fit(features.values)\n",
        "features = scaler.transform(features.values)\n",
        "scaled_features = pd.DataFrame(features, columns = col_names)\n",
        "scaled_features.head()"
      ]
    },
    {
      "cell_type": "code",
      "execution_count": 51,
      "metadata": {
        "colab": {
          "base_uri": "https://localhost:8080/"
        },
        "id": "HqkhhkkHJePe",
        "outputId": "e4917efb-338f-4af8-a9eb-891a61cc6657"
      },
      "outputs": [],
      "source": [
        "obj_col = ['building', 'type_of_property', 'entity','age_interval_','gender','state','purpose','source']\n",
        "obj_df = data[obj_col]\n",
        "obj_df = pd.get_dummies(obj_df, prefix=None, prefix_sep='_', dummy_na=False, columns=None, sparse=False, drop_first=False, dtype=None)"
      ]
    },
    {
      "attachments": {},
      "cell_type": "markdown",
      "metadata": {
        "id": "WgARgxrXJeZW"
      },
      "source": [
        "Объединим данные в один датафрейм и визуализируем производительность модели кластеризации на графике изгиба.\n",
        "\n",
        "Диаграмма изгиба подскажет нам идеальное количество кластеров для использования при построении нашей модели."
      ]
    },
    {
      "cell_type": "code",
      "execution_count": 52,
      "metadata": {
        "id": "YAM2yE-qMlSh"
      },
      "outputs": [],
      "source": [
        "newdf =pd.concat([scaled_features.reset_index(),obj_df.reset_index()],axis=1, join=\"inner\")\n"
      ]
    },
    {
      "cell_type": "code",
      "execution_count": 53,
      "metadata": {
        "colab": {
          "base_uri": "https://localhost:8080/",
          "height": 575
        },
        "id": "EVET86dgM3i3",
        "outputId": "d27c19c7-c634-4669-dfc9-7c47fdfe08f6"
      },
      "outputs": [
        {
          "data": {
            "text/plain": [
              "Text(0, 0.5, 'Inertia')"
            ]
          },
          "execution_count": 53,
          "metadata": {},
          "output_type": "execute_result"
        },
        {
          "data": {
            "image/png": "[encoded data removed]",
            "text/plain": [
              "<Figure size 1200x600 with 1 Axes>"
            ]
          },
          "metadata": {},
          "output_type": "display_data"
        }
      ],
      "source": [
        "SSE = []\n",
        "\n",
        "for cluster in range(1,10):\n",
        "    kmeans = KMeans(n_clusters = cluster, init='k-means++')\n",
        "    kmeans.fit(newdf)\n",
        "    SSE.append(kmeans.inertia_)\n",
        "\n",
        "\n",
        "frame = pd.DataFrame({'Cluster':range(1,10), 'SSE':SSE})\n",
        "plt.figure(figsize=(12,6))\n",
        "plt.plot(frame['Cluster'], frame['SSE'], marker='o')\n",
        "plt.xlabel('Number of clusters')\n",
        "plt.ylabel('Inertia')"
      ]
    },
    {
      "attachments": {},
      "cell_type": "markdown",
      "metadata": {
        "id": "u8ScLdzeGtwb"
      },
      "source": [
        "Можно считать, что хорошее количество - это 2 или 3. Для того, чтобы определиться, нужно уточнить еще одну метрику.\n",
        "Коэффициент силуэта или показатель силуэта - это показатель, используемый для оценки качества кластеров, созданных алгоритмом.\n",
        "\n",
        "Баллы за силуэт варьируются от -1 до +1. Чем выше оценка силуэта, тем лучше модель.\n",
        "Оценка силуэта измеряет расстояние между всеми точками данных в одном кластере. Чем меньше это расстояние, тем лучше оценка силуэта.\n",
        "Он также измеряет расстояние между объектом и точками данных в ближайшем кластере. Чем выше это расстояние, тем лучше.\n",
        "Оценка силуэта ближе к +1 указывает на хорошую производительность кластеризации, а оценка силуэта ближе к -1 указывает на плохую модель кластеризации.\n",
        "Давайте посчитаем оценку силуэта только что построенной модели:"
      ]
    },
    {
      "cell_type": "code",
      "execution_count": 54,
      "metadata": {
        "colab": {
          "base_uri": "https://localhost:8080/"
        },
        "id": "94Cr74StTgaQ",
        "outputId": "7bd6dd2c-a2a8-49e9-9032-2854898c56de"
      },
      "outputs": [
        {
          "name": "stdout",
          "output_type": "stream",
          "text": [
            "0.5780193554831404\n"
          ]
        }
      ],
      "source": [
        "kmeans = KMeans(n_clusters = 3, init='k-means++')\n",
        "kmeans.fit(newdf)\n",
        "print(silhouette_score(newdf, kmeans.labels_, metric='euclidean'))"
      ]
    },
    {
      "attachments": {},
      "cell_type": "markdown",
      "metadata": {},
      "source": [
        "# **Построение модели кластеризации # 2**\n",
        "Для этой модели давайте сожмем признаковое пространство методом главных компонентов (PCA).\n",
        "PCA - это метод, который помогает нам уменьшить размер набора данных. Когда мы запускаем PCA для фрейма данных, создаются новые компоненты. Эти компоненты объясняют максимальную дисперсию модели. Необходимое количество компонент PCA можно выяснить по графику осыпи.\n",
        "Мы можем выбрать подмножество этих переменных и включить их в модель K-средних."
      ]
    },
    {
      "cell_type": "code",
      "execution_count": 56,
      "metadata": {
        "colab": {
          "base_uri": "https://localhost:8080/",
          "height": 472
        },
        "id": "EJsBxyB0VUhM",
        "outputId": "f8b49b8a-4e5d-489c-969f-30c7908e0bf2"
      },
      "outputs": [
        {
          "data": {
            "image/png": "[encoded data removed]",
            "text/plain": [
              "<Figure size 640x480 with 1 Axes>"
            ]
          },
          "metadata": {},
          "output_type": "display_data"
        }
      ],
      "source": [
        "#ШРассчет собсвтенных чисел (PCA)\n",
        "\n",
        "x = np.array(newdf)\n",
        "scaler = StandardScaler()\n",
        "x = scaler.fit_transform(x)\n",
        "ev, _ = np.linalg.eig(np.cov(x.T))\n",
        "ev = np.sort(ev)[::-1]\n",
        "plt.scatter(range(1,newdf.shape[1]+1),ev)\n",
        "plt.plot(range(1,newdf.shape[1]+1),ev)\n",
        "plt.title('Scree Plot')\n",
        "plt.xlabel('Factors')\n",
        "plt.ylabel('Eigen Value')\n",
        "plt.grid()"
      ]
    },
    {
      "attachments": {},
      "cell_type": "markdown",
      "metadata": {},
      "source": [
        "Необходимое количество признаков находится на графике до значения Eigen Value равным единице. В нашем случае - это 14 признаков."
      ]
    },
    {
      "cell_type": "code",
      "execution_count": 57,
      "metadata": {
        "colab": {
          "base_uri": "https://localhost:8080/"
        },
        "id": "YWvxWc-8X5n4",
        "outputId": "9259f0f3-1de5-461b-a11c-9693aa0e085a"
      },
      "outputs": [],
      "source": [
        "pd.set_option('display.float_format', '{:.2f}'.format)\n",
        "pca = PCA(n_components=14)\n",
        "principalComponents = pca.fit_transform(newdf)\n",
        "PCA_components = pd.DataFrame(principalComponents)"
      ]
    },
    {
      "attachments": {},
      "cell_type": "markdown",
      "metadata": {},
      "source": [
        "Снова построим график осыпи для определения количества кластеров."
      ]
    },
    {
      "cell_type": "code",
      "execution_count": 58,
      "metadata": {
        "colab": {
          "base_uri": "https://localhost:8080/",
          "height": 465
        },
        "id": "LNd-l0VaV06N",
        "outputId": "b6c9fc0c-c0f4-41af-c4d2-9bd17799713f"
      },
      "outputs": [
        {
          "data": {
            "image/png": "[encoded data removed]",
            "text/plain": [
              "<Figure size 640x480 with 1 Axes>"
            ]
          },
          "metadata": {},
          "output_type": "display_data"
        }
      ],
      "source": [
        "ks = range(1, 10)\n",
        "inertias = []\n",
        "\n",
        "for k in ks:\n",
        "    model = KMeans(n_clusters=k)\n",
        "    model.fit(PCA_components.iloc[:,:2])\n",
        "    inertias.append(model.inertia_)\n",
        "\n",
        "plt.plot(ks, inertias, '-o', color='black')\n",
        "plt.xlabel('number of clusters, k')\n",
        "plt.ylabel('inertia')\n",
        "plt.xticks(ks)\n",
        "plt.show()"
      ]
    },
    {
      "attachments": {},
      "cell_type": "markdown",
      "metadata": {
        "id": "T6ALGgJWWPhh"
      },
      "source": [
        "Оптимальное количество кластеров составляет 3.\n",
        "\n",
        "Мы можем рассчитать оценку силуэта для этой модели с 3 кластерами:"
      ]
    },
    {
      "cell_type": "code",
      "execution_count": 46,
      "metadata": {
        "colab": {
          "base_uri": "https://localhost:8080/"
        },
        "id": "1p7wv_WHWKs6",
        "outputId": "e00cc473-0d67-414a-fb17-480fda602dcc"
      },
      "outputs": [
        {
          "name": "stdout",
          "output_type": "stream",
          "text": [
            "0.5819105183451145\n"
          ]
        }
      ],
      "source": [
        "model = KMeans(n_clusters=3)\n",
        "model.fit(PCA_components.iloc[:,:2])\n",
        "# silhouette score\n",
        "print(silhouette_score(PCA_components.iloc[:,:2], model.labels_, metric='euclidean'))"
      ]
    },
    {
      "attachments": {},
      "cell_type": "markdown",
      "metadata": {
        "id": "TslXR8nXWWnC"
      },
      "source": [
        "Оценка силуэта этой модели составляет 0,582, что чуть лучше, чем у предыдущей модели, при этом мы значительно сократили признаковое пространство.\n",
        "По этим причинам мы можем выбрать вторую модель, чтобы продолжить наш анализ.\n",
        "#\n",
        "# **Кластерный анализ**\n",
        "Теперь, когда мы закончили построение этих различных кластеров, давайте попробуем интерпретировать их и взглянуть на различные сегменты клиентов.\n",
        "\n",
        "Во-первых, давайте сопоставим кластеры с набором данных и взглянем на количественное распределение клиентов по классам."
      ]
    },
    {
      "cell_type": "code",
      "execution_count": 59,
      "metadata": {
        "id": "p5WDclVBWqGR"
      },
      "outputs": [],
      "source": [
        "data['Cluster'] = kmeans.labels_"
      ]
    },
    {
      "cell_type": "code",
      "execution_count": 60,
      "metadata": {
        "colab": {
          "base_uri": "https://localhost:8080/",
          "height": 175
        },
        "id": "S3C-n8szYTyW",
        "outputId": "6b9d1079-421c-4112-eb7b-e8cf789c1398"
      },
      "outputs": [
        {
          "data": {
            "text/html": [
              "<div>\n",
              "<style scoped>\n",
              "    .dataframe tbody tr th:only-of-type {\n",
              "        vertical-align: middle;\n",
              "    }\n",
              "\n",
              "    .dataframe tbody tr th {\n",
              "        vertical-align: top;\n",
              "    }\n",
              "\n",
              "    .dataframe thead th {\n",
              "        text-align: right;\n",
              "    }\n",
              "</style>\n",
              "<table border=\"1\" class=\"dataframe\">\n",
              "  <thead>\n",
              "    <tr style=\"text-align: right;\">\n",
              "      <th></th>\n",
              "      <th>Количество объектов в кластере</th>\n",
              "    </tr>\n",
              "    <tr>\n",
              "      <th>Cluster</th>\n",
              "      <th></th>\n",
              "    </tr>\n",
              "  </thead>\n",
              "  <tbody>\n",
              "    <tr>\n",
              "      <th>0</th>\n",
              "      <td>65</td>\n",
              "    </tr>\n",
              "    <tr>\n",
              "      <th>1</th>\n",
              "      <td>64</td>\n",
              "    </tr>\n",
              "    <tr>\n",
              "      <th>2</th>\n",
              "      <td>64</td>\n",
              "    </tr>\n",
              "  </tbody>\n",
              "</table>\n",
              "</div>"
            ],
            "text/plain": [
              "         Количество объектов в кластере\n",
              "Cluster                                \n",
              "0                                    65\n",
              "1                                    64\n",
              "2                                    64"
            ]
          },
          "execution_count": 60,
          "metadata": {},
          "output_type": "execute_result"
        }
      ],
      "source": [
        "data_Kmean = pd.DataFrame(data.groupby('Cluster').size(), columns = ['Количество объектов в кластере'])\n",
        "data_Kmean"
      ]
    },
    {
      "attachments": {},
      "cell_type": "markdown",
      "metadata": {
        "id": "CYp0WCSNYh5R"
      },
      "source": [
        "Итак, мы получили 3 группы клиентов (сегмента), почти равных по своему размеру. Причем качество разденения (обособленности) классов достаточно высокое, судя по коэффициенту силуэта."
      ]
    },
    {
      "attachments": {},
      "cell_type": "markdown",
      "metadata": {},
      "source": [
        "Посмотрим на распределение данных по всем признакам в наших сегментах и сформулируем выводы откносительно характеристик каждого сегмента."
      ]
    },
    {
      "cell_type": "code",
      "execution_count": 70,
      "metadata": {
        "colab": {
          "base_uri": "https://localhost:8080/",
          "height": 143
        },
        "id": "U6MOXLioYhD6",
        "outputId": "875e3a29-0a5f-4b72-b5f5-d6d466be1b06"
      },
      "outputs": [
        {
          "data": {
            "text/html": [
              "<div>\n",
              "<style scoped>\n",
              "    .dataframe tbody tr th:only-of-type {\n",
              "        vertical-align: middle;\n",
              "    }\n",
              "\n",
              "    .dataframe tbody tr th {\n",
              "        vertical-align: top;\n",
              "    }\n",
              "\n",
              "    .dataframe thead th {\n",
              "        text-align: right;\n",
              "    }\n",
              "</style>\n",
              "<table border=\"1\" class=\"dataframe\">\n",
              "  <thead>\n",
              "    <tr style=\"text-align: right;\">\n",
              "      <th></th>\n",
              "      <th>Cluster</th>\n",
              "      <th>building</th>\n",
              "      <th>area_(ft.)</th>\n",
              "      <th>price</th>\n",
              "      <th>age_at_time_of_purchase</th>\n",
              "      <th>deal_satisfaction</th>\n",
              "    </tr>\n",
              "  </thead>\n",
              "  <tbody>\n",
              "    <tr>\n",
              "      <th>0</th>\n",
              "      <td>0</td>\n",
              "      <td>2.62</td>\n",
              "      <td>940.25</td>\n",
              "      <td>284164.05</td>\n",
              "      <td>33.25</td>\n",
              "      <td>3.28</td>\n",
              "    </tr>\n",
              "    <tr>\n",
              "      <th>1</th>\n",
              "      <td>1</td>\n",
              "      <td>2.34</td>\n",
              "      <td>838.10</td>\n",
              "      <td>253788.01</td>\n",
              "      <td>58.17</td>\n",
              "      <td>3.95</td>\n",
              "    </tr>\n",
              "    <tr>\n",
              "      <th>2</th>\n",
              "      <td>2</td>\n",
              "      <td>2.77</td>\n",
              "      <td>893.32</td>\n",
              "      <td>262399.00</td>\n",
              "      <td>47.27</td>\n",
              "      <td>3.55</td>\n",
              "    </tr>\n",
              "  </tbody>\n",
              "</table>\n",
              "</div>"
            ],
            "text/plain": [
              "   Cluster  building  area_(ft.)     price  age_at_time_of_purchase  \\\n",
              "0        0      2.62      940.25 284164.05                    33.25   \n",
              "1        1      2.34      838.10 253788.01                    58.17   \n",
              "2        2      2.77      893.32 262399.00                    47.27   \n",
              "\n",
              "   deal_satisfaction  \n",
              "0               3.28  \n",
              "1               3.95  \n",
              "2               3.55  "
            ]
          },
          "execution_count": 70,
          "metadata": {},
          "output_type": "execute_result"
        }
      ],
      "source": [
        "data.groupby(['Cluster'], as_index=False).mean()"
      ]
    },
    {
      "attachments": {},
      "cell_type": "markdown",
      "metadata": {
        "id": "w6IMotn0abaC"
      },
      "source": [
        "Посмотрим на гендерную разбивку"
      ]
    },
    {
      "cell_type": "code",
      "execution_count": 71,
      "metadata": {
        "colab": {
          "base_uri": "https://localhost:8080/",
          "height": 269
        },
        "id": "0-y91eHYaak8",
        "outputId": "1037cb48-0a80-4c57-d9d6-c495c24c5cc1"
      },
      "outputs": [
        {
          "data": {
            "text/html": [
              "<div>\n",
              "<style scoped>\n",
              "    .dataframe tbody tr th:only-of-type {\n",
              "        vertical-align: middle;\n",
              "    }\n",
              "\n",
              "    .dataframe tbody tr th {\n",
              "        vertical-align: top;\n",
              "    }\n",
              "\n",
              "    .dataframe thead th {\n",
              "        text-align: right;\n",
              "    }\n",
              "</style>\n",
              "<table border=\"1\" class=\"dataframe\">\n",
              "  <thead>\n",
              "    <tr style=\"text-align: right;\">\n",
              "      <th></th>\n",
              "      <th></th>\n",
              "      <th>gender</th>\n",
              "    </tr>\n",
              "    <tr>\n",
              "      <th>Cluster</th>\n",
              "      <th>gender</th>\n",
              "      <th></th>\n",
              "    </tr>\n",
              "  </thead>\n",
              "  <tbody>\n",
              "    <tr>\n",
              "      <th rowspan=\"2\" valign=\"top\">0</th>\n",
              "      <th>F</th>\n",
              "      <td>31</td>\n",
              "    </tr>\n",
              "    <tr>\n",
              "      <th>M</th>\n",
              "      <td>34</td>\n",
              "    </tr>\n",
              "    <tr>\n",
              "      <th rowspan=\"2\" valign=\"top\">1</th>\n",
              "      <th>F</th>\n",
              "      <td>17</td>\n",
              "    </tr>\n",
              "    <tr>\n",
              "      <th>M</th>\n",
              "      <td>47</td>\n",
              "    </tr>\n",
              "    <tr>\n",
              "      <th rowspan=\"2\" valign=\"top\">2</th>\n",
              "      <th>F</th>\n",
              "      <td>22</td>\n",
              "    </tr>\n",
              "    <tr>\n",
              "      <th>M</th>\n",
              "      <td>42</td>\n",
              "    </tr>\n",
              "  </tbody>\n",
              "</table>\n",
              "</div>"
            ],
            "text/plain": [
              "                gender\n",
              "Cluster gender        \n",
              "0       F           31\n",
              "        M           34\n",
              "1       F           17\n",
              "        M           47\n",
              "2       F           22\n",
              "        M           42"
            ]
          },
          "execution_count": 71,
          "metadata": {},
          "output_type": "execute_result"
        }
      ],
      "source": [
        "pd.DataFrame(data.groupby(['Cluster','gender'])['gender'].count())"
      ]
    },
    {
      "cell_type": "code",
      "execution_count": 72,
      "metadata": {
        "colab": {
          "base_uri": "https://localhost:8080/",
          "height": 363
        },
        "id": "xf3kqguwbE4i",
        "outputId": "6f88fd8d-3aac-4c9e-abb1-5273656ca122"
      },
      "outputs": [
        {
          "data": {
            "text/html": [
              "<div>\n",
              "<style scoped>\n",
              "    .dataframe tbody tr th:only-of-type {\n",
              "        vertical-align: middle;\n",
              "    }\n",
              "\n",
              "    .dataframe tbody tr th {\n",
              "        vertical-align: top;\n",
              "    }\n",
              "\n",
              "    .dataframe thead th {\n",
              "        text-align: right;\n",
              "    }\n",
              "</style>\n",
              "<table border=\"1\" class=\"dataframe\">\n",
              "  <thead>\n",
              "    <tr style=\"text-align: right;\">\n",
              "      <th></th>\n",
              "      <th></th>\n",
              "      <th>age_interval_</th>\n",
              "    </tr>\n",
              "    <tr>\n",
              "      <th>Cluster</th>\n",
              "      <th>age_interval_</th>\n",
              "      <th></th>\n",
              "    </tr>\n",
              "  </thead>\n",
              "  <tbody>\n",
              "    <tr>\n",
              "      <th rowspan=\"3\" valign=\"top\">0</th>\n",
              "      <th>18-25</th>\n",
              "      <td>5</td>\n",
              "    </tr>\n",
              "    <tr>\n",
              "      <th>26-35</th>\n",
              "      <td>35</td>\n",
              "    </tr>\n",
              "    <tr>\n",
              "      <th>36-45</th>\n",
              "      <td>25</td>\n",
              "    </tr>\n",
              "    <tr>\n",
              "      <th rowspan=\"4\" valign=\"top\">1</th>\n",
              "      <th>36-45</th>\n",
              "      <td>16</td>\n",
              "    </tr>\n",
              "    <tr>\n",
              "      <th>46-55</th>\n",
              "      <td>4</td>\n",
              "    </tr>\n",
              "    <tr>\n",
              "      <th>56-65</th>\n",
              "      <td>26</td>\n",
              "    </tr>\n",
              "    <tr>\n",
              "      <th>65+</th>\n",
              "      <td>18</td>\n",
              "    </tr>\n",
              "    <tr>\n",
              "      <th rowspan=\"2\" valign=\"top\">2</th>\n",
              "      <th>36-45</th>\n",
              "      <td>27</td>\n",
              "    </tr>\n",
              "    <tr>\n",
              "      <th>46-55</th>\n",
              "      <td>37</td>\n",
              "    </tr>\n",
              "  </tbody>\n",
              "</table>\n",
              "</div>"
            ],
            "text/plain": [
              "                       age_interval_\n",
              "Cluster age_interval_               \n",
              "0       18-25                      5\n",
              "        26-35                     35\n",
              "        36-45                     25\n",
              "1       36-45                     16\n",
              "        46-55                      4\n",
              "        56-65                     26\n",
              "        65+                       18\n",
              "2       36-45                     27\n",
              "        46-55                     37"
            ]
          },
          "execution_count": 72,
          "metadata": {},
          "output_type": "execute_result"
        }
      ],
      "source": [
        "pd.DataFrame(data.groupby(['Cluster','age_interval_'])['age_interval_'].count())"
      ]
    },
    {
      "cell_type": "code",
      "execution_count": 73,
      "metadata": {
        "colab": {
          "base_uri": "https://localhost:8080/",
          "height": 269
        },
        "id": "HBtSHA1JfFqF",
        "outputId": "0c6c1a86-263b-4836-a551-96b1ed4f6831"
      },
      "outputs": [
        {
          "data": {
            "text/html": [
              "<div>\n",
              "<style scoped>\n",
              "    .dataframe tbody tr th:only-of-type {\n",
              "        vertical-align: middle;\n",
              "    }\n",
              "\n",
              "    .dataframe tbody tr th {\n",
              "        vertical-align: top;\n",
              "    }\n",
              "\n",
              "    .dataframe thead th {\n",
              "        text-align: right;\n",
              "    }\n",
              "</style>\n",
              "<table border=\"1\" class=\"dataframe\">\n",
              "  <thead>\n",
              "    <tr style=\"text-align: right;\">\n",
              "      <th></th>\n",
              "      <th></th>\n",
              "      <th>purpose</th>\n",
              "    </tr>\n",
              "    <tr>\n",
              "      <th>Cluster</th>\n",
              "      <th>purpose</th>\n",
              "      <th></th>\n",
              "    </tr>\n",
              "  </thead>\n",
              "  <tbody>\n",
              "    <tr>\n",
              "      <th rowspan=\"2\" valign=\"top\">0</th>\n",
              "      <th>Home</th>\n",
              "      <td>48</td>\n",
              "    </tr>\n",
              "    <tr>\n",
              "      <th>Investment</th>\n",
              "      <td>17</td>\n",
              "    </tr>\n",
              "    <tr>\n",
              "      <th rowspan=\"2\" valign=\"top\">1</th>\n",
              "      <th>Home</th>\n",
              "      <td>25</td>\n",
              "    </tr>\n",
              "    <tr>\n",
              "      <th>Investment</th>\n",
              "      <td>39</td>\n",
              "    </tr>\n",
              "    <tr>\n",
              "      <th rowspan=\"2\" valign=\"top\">2</th>\n",
              "      <th>Home</th>\n",
              "      <td>45</td>\n",
              "    </tr>\n",
              "    <tr>\n",
              "      <th>Investment</th>\n",
              "      <td>19</td>\n",
              "    </tr>\n",
              "  </tbody>\n",
              "</table>\n",
              "</div>"
            ],
            "text/plain": [
              "                    purpose\n",
              "Cluster purpose            \n",
              "0       Home             48\n",
              "        Investment       17\n",
              "1       Home             25\n",
              "        Investment       39\n",
              "2       Home             45\n",
              "        Investment       19"
            ]
          },
          "execution_count": 73,
          "metadata": {},
          "output_type": "execute_result"
        }
      ],
      "source": [
        "pd.DataFrame(data.groupby(['Cluster','purpose'])['purpose'].count())"
      ]
    },
    {
      "cell_type": "code",
      "execution_count": 74,
      "metadata": {
        "colab": {
          "base_uri": "https://localhost:8080/",
          "height": 237
        },
        "id": "fSiZsSnafv8M",
        "outputId": "25d24412-ee27-4aca-a770-316e25bb2492"
      },
      "outputs": [
        {
          "data": {
            "text/html": [
              "<div>\n",
              "<style scoped>\n",
              "    .dataframe tbody tr th:only-of-type {\n",
              "        vertical-align: middle;\n",
              "    }\n",
              "\n",
              "    .dataframe tbody tr th {\n",
              "        vertical-align: top;\n",
              "    }\n",
              "\n",
              "    .dataframe thead th {\n",
              "        text-align: right;\n",
              "    }\n",
              "</style>\n",
              "<table border=\"1\" class=\"dataframe\">\n",
              "  <thead>\n",
              "    <tr style=\"text-align: right;\">\n",
              "      <th></th>\n",
              "      <th></th>\n",
              "      <th>type_of_property</th>\n",
              "    </tr>\n",
              "    <tr>\n",
              "      <th>Cluster</th>\n",
              "      <th>type_of_property</th>\n",
              "      <th></th>\n",
              "    </tr>\n",
              "  </thead>\n",
              "  <tbody>\n",
              "    <tr>\n",
              "      <th rowspan=\"2\" valign=\"top\">0</th>\n",
              "      <th>Apartment</th>\n",
              "      <td>64</td>\n",
              "    </tr>\n",
              "    <tr>\n",
              "      <th>Office</th>\n",
              "      <td>1</td>\n",
              "    </tr>\n",
              "    <tr>\n",
              "      <th rowspan=\"2\" valign=\"top\">1</th>\n",
              "      <th>Apartment</th>\n",
              "      <td>58</td>\n",
              "    </tr>\n",
              "    <tr>\n",
              "      <th>Office</th>\n",
              "      <td>6</td>\n",
              "    </tr>\n",
              "    <tr>\n",
              "      <th>2</th>\n",
              "      <th>Apartment</th>\n",
              "      <td>64</td>\n",
              "    </tr>\n",
              "  </tbody>\n",
              "</table>\n",
              "</div>"
            ],
            "text/plain": [
              "                          type_of_property\n",
              "Cluster type_of_property                  \n",
              "0       Apartment                       64\n",
              "        Office                           1\n",
              "1       Apartment                       58\n",
              "        Office                           6\n",
              "2       Apartment                       64"
            ]
          },
          "execution_count": 74,
          "metadata": {},
          "output_type": "execute_result"
        }
      ],
      "source": [
        "pd.DataFrame(data.groupby(['Cluster','type_of_property'])['type_of_property'].count())"
      ]
    },
    {
      "cell_type": "code",
      "execution_count": 75,
      "metadata": {
        "colab": {
          "base_uri": "https://localhost:8080/",
          "height": 864
        },
        "id": "0XF1c101bwvM",
        "outputId": "764d9a64-a208-4c2f-f721-030e2500c395"
      },
      "outputs": [
        {
          "data": {
            "text/html": [
              "<div>\n",
              "<style scoped>\n",
              "    .dataframe tbody tr th:only-of-type {\n",
              "        vertical-align: middle;\n",
              "    }\n",
              "\n",
              "    .dataframe tbody tr th {\n",
              "        vertical-align: top;\n",
              "    }\n",
              "\n",
              "    .dataframe thead th {\n",
              "        text-align: right;\n",
              "    }\n",
              "</style>\n",
              "<table border=\"1\" class=\"dataframe\">\n",
              "  <thead>\n",
              "    <tr style=\"text-align: right;\">\n",
              "      <th></th>\n",
              "      <th></th>\n",
              "      <th>state</th>\n",
              "    </tr>\n",
              "    <tr>\n",
              "      <th>Cluster</th>\n",
              "      <th>state</th>\n",
              "      <th></th>\n",
              "    </tr>\n",
              "  </thead>\n",
              "  <tbody>\n",
              "    <tr>\n",
              "      <th rowspan=\"8\" valign=\"top\">0</th>\n",
              "      <th>Arizona</th>\n",
              "      <td>6</td>\n",
              "    </tr>\n",
              "    <tr>\n",
              "      <th>California</th>\n",
              "      <td>37</td>\n",
              "    </tr>\n",
              "    <tr>\n",
              "      <th>Colorado</th>\n",
              "      <td>6</td>\n",
              "    </tr>\n",
              "    <tr>\n",
              "      <th>Kansas</th>\n",
              "      <td>1</td>\n",
              "    </tr>\n",
              "    <tr>\n",
              "      <th>Nevada</th>\n",
              "      <td>5</td>\n",
              "    </tr>\n",
              "    <tr>\n",
              "      <th>Oregon</th>\n",
              "      <td>2</td>\n",
              "    </tr>\n",
              "    <tr>\n",
              "      <th>Utah</th>\n",
              "      <td>2</td>\n",
              "    </tr>\n",
              "    <tr>\n",
              "      <th>Virginia</th>\n",
              "      <td>3</td>\n",
              "    </tr>\n",
              "    <tr>\n",
              "      <th rowspan=\"8\" valign=\"top\">1</th>\n",
              "      <th>Arizona</th>\n",
              "      <td>3</td>\n",
              "    </tr>\n",
              "    <tr>\n",
              "      <th>California</th>\n",
              "      <td>33</td>\n",
              "    </tr>\n",
              "    <tr>\n",
              "      <th>Colorado</th>\n",
              "      <td>1</td>\n",
              "    </tr>\n",
              "    <tr>\n",
              "      <th>Nevada</th>\n",
              "      <td>8</td>\n",
              "    </tr>\n",
              "    <tr>\n",
              "      <th>Oregon</th>\n",
              "      <td>6</td>\n",
              "    </tr>\n",
              "    <tr>\n",
              "      <th>Utah</th>\n",
              "      <td>2</td>\n",
              "    </tr>\n",
              "    <tr>\n",
              "      <th>Virginia</th>\n",
              "      <td>1</td>\n",
              "    </tr>\n",
              "    <tr>\n",
              "      <th>Wyoming</th>\n",
              "      <td>1</td>\n",
              "    </tr>\n",
              "    <tr>\n",
              "      <th rowspan=\"6\" valign=\"top\">2</th>\n",
              "      <th>Arizona</th>\n",
              "      <td>2</td>\n",
              "    </tr>\n",
              "    <tr>\n",
              "      <th>California</th>\n",
              "      <td>47</td>\n",
              "    </tr>\n",
              "    <tr>\n",
              "      <th>Colorado</th>\n",
              "      <td>4</td>\n",
              "    </tr>\n",
              "    <tr>\n",
              "      <th>Nevada</th>\n",
              "      <td>4</td>\n",
              "    </tr>\n",
              "    <tr>\n",
              "      <th>Oregon</th>\n",
              "      <td>3</td>\n",
              "    </tr>\n",
              "    <tr>\n",
              "      <th>Utah</th>\n",
              "      <td>2</td>\n",
              "    </tr>\n",
              "  </tbody>\n",
              "</table>\n",
              "</div>"
            ],
            "text/plain": [
              "                    state\n",
              "Cluster state            \n",
              "0       Arizona         6\n",
              "        California     37\n",
              "        Colorado        6\n",
              "        Kansas          1\n",
              "        Nevada          5\n",
              "        Oregon          2\n",
              "        Utah            2\n",
              "        Virginia        3\n",
              "1       Arizona         3\n",
              "        California     33\n",
              "        Colorado        1\n",
              "        Nevada          8\n",
              "        Oregon          6\n",
              "        Utah            2\n",
              "        Virginia        1\n",
              "        Wyoming         1\n",
              "2       Arizona         2\n",
              "        California     47\n",
              "        Colorado        4\n",
              "        Nevada          4\n",
              "        Oregon          3\n",
              "        Utah            2"
            ]
          },
          "execution_count": 75,
          "metadata": {},
          "output_type": "execute_result"
        }
      ],
      "source": [
        "pd.DataFrame(data.groupby(['Cluster','state'])['state'].count())"
      ]
    },
    {
      "cell_type": "code",
      "execution_count": 76,
      "metadata": {
        "colab": {
          "base_uri": "https://localhost:8080/",
          "height": 519
        },
        "id": "xKDBqvztcDu3",
        "outputId": "fc584ced-2357-46f0-97d8-94daf1c28768"
      },
      "outputs": [
        {
          "data": {
            "text/html": [
              "<div>\n",
              "<style scoped>\n",
              "    .dataframe tbody tr th:only-of-type {\n",
              "        vertical-align: middle;\n",
              "    }\n",
              "\n",
              "    .dataframe tbody tr th {\n",
              "        vertical-align: top;\n",
              "    }\n",
              "\n",
              "    .dataframe thead th {\n",
              "        text-align: right;\n",
              "    }\n",
              "</style>\n",
              "<table border=\"1\" class=\"dataframe\">\n",
              "  <thead>\n",
              "    <tr style=\"text-align: right;\">\n",
              "      <th></th>\n",
              "      <th></th>\n",
              "      <th>country</th>\n",
              "    </tr>\n",
              "    <tr>\n",
              "      <th>Cluster</th>\n",
              "      <th>country</th>\n",
              "      <th></th>\n",
              "    </tr>\n",
              "  </thead>\n",
              "  <tbody>\n",
              "    <tr>\n",
              "      <th rowspan=\"6\" valign=\"top\">0</th>\n",
              "      <th>Belgium</th>\n",
              "      <td>1</td>\n",
              "    </tr>\n",
              "    <tr>\n",
              "      <th>Denmark</th>\n",
              "      <td>1</td>\n",
              "    </tr>\n",
              "    <tr>\n",
              "      <th>Russia</th>\n",
              "      <td>1</td>\n",
              "    </tr>\n",
              "    <tr>\n",
              "      <th>UK</th>\n",
              "      <td>1</td>\n",
              "    </tr>\n",
              "    <tr>\n",
              "      <th>USA</th>\n",
              "      <td>59</td>\n",
              "    </tr>\n",
              "    <tr>\n",
              "      <th>USA</th>\n",
              "      <td>2</td>\n",
              "    </tr>\n",
              "    <tr>\n",
              "      <th rowspan=\"4\" valign=\"top\">1</th>\n",
              "      <th>Canada</th>\n",
              "      <td>7</td>\n",
              "    </tr>\n",
              "    <tr>\n",
              "      <th>Russia</th>\n",
              "      <td>2</td>\n",
              "    </tr>\n",
              "    <tr>\n",
              "      <th>USA</th>\n",
              "      <td>46</td>\n",
              "    </tr>\n",
              "    <tr>\n",
              "      <th>USA</th>\n",
              "      <td>9</td>\n",
              "    </tr>\n",
              "    <tr>\n",
              "      <th rowspan=\"7\" valign=\"top\">2</th>\n",
              "      <th>Belgium</th>\n",
              "      <td>1</td>\n",
              "    </tr>\n",
              "    <tr>\n",
              "      <th>Germany</th>\n",
              "      <td>1</td>\n",
              "    </tr>\n",
              "    <tr>\n",
              "      <th>Mexico</th>\n",
              "      <td>1</td>\n",
              "    </tr>\n",
              "    <tr>\n",
              "      <th>Russia</th>\n",
              "      <td>1</td>\n",
              "    </tr>\n",
              "    <tr>\n",
              "      <th>UK</th>\n",
              "      <td>1</td>\n",
              "    </tr>\n",
              "    <tr>\n",
              "      <th>USA</th>\n",
              "      <td>58</td>\n",
              "    </tr>\n",
              "    <tr>\n",
              "      <th>USA</th>\n",
              "      <td>1</td>\n",
              "    </tr>\n",
              "  </tbody>\n",
              "</table>\n",
              "</div>"
            ],
            "text/plain": [
              "                 country\n",
              "Cluster country         \n",
              "0       Belgium        1\n",
              "        Denmark        1\n",
              "        Russia         1\n",
              "        UK             1\n",
              "        USA           59\n",
              "        USA            2\n",
              "1       Canada         7\n",
              "        Russia         2\n",
              "        USA           46\n",
              "        USA            9\n",
              "2       Belgium        1\n",
              "        Germany        1\n",
              "        Mexico         1\n",
              "        Russia         1\n",
              "        UK             1\n",
              "        USA           58\n",
              "        USA            1"
            ]
          },
          "execution_count": 76,
          "metadata": {},
          "output_type": "execute_result"
        }
      ],
      "source": [
        "pd.DataFrame(data.groupby(['Cluster','country'])['country'].count())"
      ]
    },
    {
      "cell_type": "code",
      "execution_count": 77,
      "metadata": {
        "colab": {
          "base_uri": "https://localhost:8080/",
          "height": 269
        },
        "id": "UZnrSRYxcXKi",
        "outputId": "c0883de6-d508-4946-de44-4d36624c1cb2"
      },
      "outputs": [
        {
          "data": {
            "text/html": [
              "<div>\n",
              "<style scoped>\n",
              "    .dataframe tbody tr th:only-of-type {\n",
              "        vertical-align: middle;\n",
              "    }\n",
              "\n",
              "    .dataframe tbody tr th {\n",
              "        vertical-align: top;\n",
              "    }\n",
              "\n",
              "    .dataframe thead th {\n",
              "        text-align: right;\n",
              "    }\n",
              "</style>\n",
              "<table border=\"1\" class=\"dataframe\">\n",
              "  <thead>\n",
              "    <tr style=\"text-align: right;\">\n",
              "      <th></th>\n",
              "      <th></th>\n",
              "      <th>mortgage</th>\n",
              "    </tr>\n",
              "    <tr>\n",
              "      <th>Cluster</th>\n",
              "      <th>mortgage</th>\n",
              "      <th></th>\n",
              "    </tr>\n",
              "  </thead>\n",
              "  <tbody>\n",
              "    <tr>\n",
              "      <th rowspan=\"2\" valign=\"top\">0</th>\n",
              "      <th>No</th>\n",
              "      <td>40</td>\n",
              "    </tr>\n",
              "    <tr>\n",
              "      <th>Yes</th>\n",
              "      <td>25</td>\n",
              "    </tr>\n",
              "    <tr>\n",
              "      <th rowspan=\"2\" valign=\"top\">1</th>\n",
              "      <th>No</th>\n",
              "      <td>50</td>\n",
              "    </tr>\n",
              "    <tr>\n",
              "      <th>Yes</th>\n",
              "      <td>14</td>\n",
              "    </tr>\n",
              "    <tr>\n",
              "      <th rowspan=\"2\" valign=\"top\">2</th>\n",
              "      <th>No</th>\n",
              "      <td>42</td>\n",
              "    </tr>\n",
              "    <tr>\n",
              "      <th>Yes</th>\n",
              "      <td>22</td>\n",
              "    </tr>\n",
              "  </tbody>\n",
              "</table>\n",
              "</div>"
            ],
            "text/plain": [
              "                  mortgage\n",
              "Cluster mortgage          \n",
              "0       No              40\n",
              "        Yes             25\n",
              "1       No              50\n",
              "        Yes             14\n",
              "2       No              42\n",
              "        Yes             22"
            ]
          },
          "execution_count": 77,
          "metadata": {},
          "output_type": "execute_result"
        }
      ],
      "source": [
        "pd.DataFrame(data.groupby(['Cluster','mortgage'])['mortgage'].count())"
      ]
    },
    {
      "cell_type": "code",
      "execution_count": 78,
      "metadata": {
        "colab": {
          "base_uri": "https://localhost:8080/",
          "height": 363
        },
        "id": "BpDe2HxDcfV5",
        "outputId": "07b4cfa6-96c8-49fd-c319-69b573c082fb"
      },
      "outputs": [
        {
          "data": {
            "text/html": [
              "<div>\n",
              "<style scoped>\n",
              "    .dataframe tbody tr th:only-of-type {\n",
              "        vertical-align: middle;\n",
              "    }\n",
              "\n",
              "    .dataframe tbody tr th {\n",
              "        vertical-align: top;\n",
              "    }\n",
              "\n",
              "    .dataframe thead th {\n",
              "        text-align: right;\n",
              "    }\n",
              "</style>\n",
              "<table border=\"1\" class=\"dataframe\">\n",
              "  <thead>\n",
              "    <tr style=\"text-align: right;\">\n",
              "      <th></th>\n",
              "      <th></th>\n",
              "      <th>source</th>\n",
              "    </tr>\n",
              "    <tr>\n",
              "      <th>Cluster</th>\n",
              "      <th>source</th>\n",
              "      <th></th>\n",
              "    </tr>\n",
              "  </thead>\n",
              "  <tbody>\n",
              "    <tr>\n",
              "      <th rowspan=\"3\" valign=\"top\">0</th>\n",
              "      <th>Agency</th>\n",
              "      <td>25</td>\n",
              "    </tr>\n",
              "    <tr>\n",
              "      <th>Client</th>\n",
              "      <td>9</td>\n",
              "    </tr>\n",
              "    <tr>\n",
              "      <th>Website</th>\n",
              "      <td>31</td>\n",
              "    </tr>\n",
              "    <tr>\n",
              "      <th rowspan=\"3\" valign=\"top\">1</th>\n",
              "      <th>Agency</th>\n",
              "      <td>12</td>\n",
              "    </tr>\n",
              "    <tr>\n",
              "      <th>Client</th>\n",
              "      <td>2</td>\n",
              "    </tr>\n",
              "    <tr>\n",
              "      <th>Website</th>\n",
              "      <td>50</td>\n",
              "    </tr>\n",
              "    <tr>\n",
              "      <th rowspan=\"3\" valign=\"top\">2</th>\n",
              "      <th>Agency</th>\n",
              "      <td>22</td>\n",
              "    </tr>\n",
              "    <tr>\n",
              "      <th>Client</th>\n",
              "      <td>6</td>\n",
              "    </tr>\n",
              "    <tr>\n",
              "      <th>Website</th>\n",
              "      <td>36</td>\n",
              "    </tr>\n",
              "  </tbody>\n",
              "</table>\n",
              "</div>"
            ],
            "text/plain": [
              "                 source\n",
              "Cluster source         \n",
              "0       Agency       25\n",
              "        Client        9\n",
              "        Website      31\n",
              "1       Agency       12\n",
              "        Client        2\n",
              "        Website      50\n",
              "2       Agency       22\n",
              "        Client        6\n",
              "        Website      36"
            ]
          },
          "execution_count": 78,
          "metadata": {},
          "output_type": "execute_result"
        }
      ],
      "source": [
        "pd.DataFrame(data.groupby(['Cluster','source'])['source'].count())"
      ]
    },
    {
      "cell_type": "code",
      "execution_count": 79,
      "metadata": {
        "colab": {
          "base_uri": "https://localhost:8080/",
          "height": 551
        },
        "id": "TjAid6MDcf_w",
        "outputId": "7aa65024-0516-45d5-8adc-578453fa6270"
      },
      "outputs": [
        {
          "data": {
            "text/html": [
              "<div>\n",
              "<style scoped>\n",
              "    .dataframe tbody tr th:only-of-type {\n",
              "        vertical-align: middle;\n",
              "    }\n",
              "\n",
              "    .dataframe tbody tr th {\n",
              "        vertical-align: top;\n",
              "    }\n",
              "\n",
              "    .dataframe thead th {\n",
              "        text-align: right;\n",
              "    }\n",
              "</style>\n",
              "<table border=\"1\" class=\"dataframe\">\n",
              "  <thead>\n",
              "    <tr style=\"text-align: right;\">\n",
              "      <th></th>\n",
              "      <th></th>\n",
              "      <th>deal_satisfaction</th>\n",
              "    </tr>\n",
              "    <tr>\n",
              "      <th>Cluster</th>\n",
              "      <th>deal_satisfaction</th>\n",
              "      <th></th>\n",
              "    </tr>\n",
              "  </thead>\n",
              "  <tbody>\n",
              "    <tr>\n",
              "      <th rowspan=\"5\" valign=\"top\">0</th>\n",
              "      <th>1</th>\n",
              "      <td>11</td>\n",
              "    </tr>\n",
              "    <tr>\n",
              "      <th>2</th>\n",
              "      <td>11</td>\n",
              "    </tr>\n",
              "    <tr>\n",
              "      <th>3</th>\n",
              "      <td>12</td>\n",
              "    </tr>\n",
              "    <tr>\n",
              "      <th>4</th>\n",
              "      <td>11</td>\n",
              "    </tr>\n",
              "    <tr>\n",
              "      <th>5</th>\n",
              "      <td>20</td>\n",
              "    </tr>\n",
              "    <tr>\n",
              "      <th rowspan=\"5\" valign=\"top\">1</th>\n",
              "      <th>1</th>\n",
              "      <td>3</td>\n",
              "    </tr>\n",
              "    <tr>\n",
              "      <th>2</th>\n",
              "      <td>6</td>\n",
              "    </tr>\n",
              "    <tr>\n",
              "      <th>3</th>\n",
              "      <td>14</td>\n",
              "    </tr>\n",
              "    <tr>\n",
              "      <th>4</th>\n",
              "      <td>9</td>\n",
              "    </tr>\n",
              "    <tr>\n",
              "      <th>5</th>\n",
              "      <td>32</td>\n",
              "    </tr>\n",
              "    <tr>\n",
              "      <th rowspan=\"5\" valign=\"top\">2</th>\n",
              "      <th>1</th>\n",
              "      <td>6</td>\n",
              "    </tr>\n",
              "    <tr>\n",
              "      <th>2</th>\n",
              "      <td>8</td>\n",
              "    </tr>\n",
              "    <tr>\n",
              "      <th>3</th>\n",
              "      <td>13</td>\n",
              "    </tr>\n",
              "    <tr>\n",
              "      <th>4</th>\n",
              "      <td>19</td>\n",
              "    </tr>\n",
              "    <tr>\n",
              "      <th>5</th>\n",
              "      <td>18</td>\n",
              "    </tr>\n",
              "  </tbody>\n",
              "</table>\n",
              "</div>"
            ],
            "text/plain": [
              "                           deal_satisfaction\n",
              "Cluster deal_satisfaction                   \n",
              "0       1                                 11\n",
              "        2                                 11\n",
              "        3                                 12\n",
              "        4                                 11\n",
              "        5                                 20\n",
              "1       1                                  3\n",
              "        2                                  6\n",
              "        3                                 14\n",
              "        4                                  9\n",
              "        5                                 32\n",
              "2       1                                  6\n",
              "        2                                  8\n",
              "        3                                 13\n",
              "        4                                 19\n",
              "        5                                 18"
            ]
          },
          "execution_count": 79,
          "metadata": {},
          "output_type": "execute_result"
        }
      ],
      "source": [
        "pd.DataFrame(data.groupby(['Cluster','deal_satisfaction'])['deal_satisfaction'].count())"
      ]
    },
    {
      "attachments": {},
      "cell_type": "markdown",
      "metadata": {
        "id": "6iBuyJXzdeJf"
      },
      "source": [
        "# **Основные атрибуты каждого сегмента**\n",
        "# **Кластер 2 (Семейные люди среднего возраста, скопившие на собственное жилье)**\n",
        " Люди среднего возраста от 35 до 55 лет (преимущественно 45+), цель покупки которых только квартиры и в основном для личного проживания (почти в 2.5 чаще, чем в целях инвестирования).\n",
        "Использует ипотеку, как источник средств, однако в 2 раза реже, чем собственные средства.\n",
        "Этот сегмент покупает в основном в USA (California) и выборочно немного в других штатах USA, за редким исключением в других странах (Belgium, Germany, Mexico,Russia,UK)\n",
        "Это средний покупатель с отношении цены и площади объектов и удовлетворенности сделкой. Источник лида данного кластера - в большинстве Websites, на втором месте - Agency, однако и дугие клиенты также присутствуют в небольшом количестве.\n",
        "\n",
        "\n",
        "# **Кластер 1 (Люди предпенсионного возраста, заботящиеся о дополнительном доходе на пенсии)**\n",
        " Люди старше среднего возраста 36 до 65 лет, причем преимущественно 56-65, цель покупки которых в основном инвестиции, в основном квартиры, но почти все проданные офисные помещения в выборке куплены представителями этого сегмента. \n",
        "Ипотеку в качестве источника средств использует реже, чем в других сегментах (в более чем 3.5 раза реже, чем собственные накопления).\n",
        "Самая маленькая Площадь и стоимость купленной недвижимости,однако этот кластер более склонен оставаться вполне удовлетворенным покупками.\n",
        "Этот сегмент покупает в основном в USA (California) и выборочно немного в других штатах USA, но у этого сегмента относительно высокая доля покупки иностранной недвижимости (особенно в Canada).\n",
        "Источник лида данного кластера - в основном Websites, гораздо меньше (в 4 раза) - Agency, и крайне редко  - клиенты.\n",
        "\n",
        "\n",
        "# **Кластер 0 (Молодые амбициозные транжиры)** \n",
        "Молодые люди 18-45, причем преимущественно до 35 лет, цель покупки которых - квартира в основном (более, чем в 2.5 раза чаще) для личного пользования, чем для инвестиций. Использует ипотеку, как источник средств, однако в 2 раза реже, чем собственные средства.\n",
        " Этот сегмент покупает в основном в USA (California) и выборочно (чаще, чем в кластере 2 ) в других штатах USA. Этот сегмент в среднем покупает объекты большей  площади и, соответсвенно, стоимости, однако он самый капризный в плане удовлетворенности сделкой. Источник лида данного кластера - примерно наполовину Websites и  Agency, иногда  - клиенты.\n"
      ]
    },
    {
      "attachments": {},
      "cell_type": "markdown",
      "metadata": {
        "id": "SBZO7cy8We91"
      },
      "source": [
        "<!-- Проведем стандартизацию данных -->"
      ]
    }
  ],
  "metadata": {
    "colab": {
      "provenance": []
    },
    "kernelspec": {
      "display_name": "Python 3",
      "name": "python3"
    },
    "language_info": {
      "codemirror_mode": {
        "name": "ipython",
        "version": 3
      },
      "file_extension": ".py",
      "mimetype": "text/x-python",
      "name": "python",
      "nbconvert_exporter": "python",
      "pygments_lexer": "ipython3",
      "version": "3.9.13"
    }
  },
  "nbformat": 4,
  "nbformat_minor": 0
}
